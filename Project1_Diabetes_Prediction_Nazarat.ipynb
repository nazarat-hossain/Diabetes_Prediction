{
 "cells": [
  {
   "cell_type": "markdown",
   "metadata": {},
   "source": [
    "# Health Analytics Project 1: Diabetes Prediction"
   ]
  },
  {
   "cell_type": "markdown",
   "metadata": {},
   "source": [
    "# S M Nazarat Hossain"
   ]
  },
  {
   "cell_type": "markdown",
   "metadata": {},
   "source": [
    "\n",
    "The goal of this project is to build a model that identifies patients that have a diagnosis of Type 2 diabetes mellitus (T2DM). Diagnosis of T2DM is defined by a set of ICD9 codes: {'250', '250.0', 250.*0, and 250.*2} where 250.*0 means '250.00', '250.10', '250.20', ... '250.90' and 250.*2 means '250.02', '250.12', ... '250.92'. \n",
    "\n",
    "Note that ICD9 codes 250.*1 and 250.*3 are for Type I diabetes mellitus and are not to be classified. ICD9 codes are found in the table SyncDiagnosis.\n",
    "\n",
    " The datasetPracticeFusionDiabetes consist of 17 different files, 2 common files and 15 data set-specific files. They are in comma separated value (csv) format. Please refer to the data set dictionary for a description of the table elements and for a chart showing how the tables are connected.\n",
    "\n",
    " \n",
    "\n",
    "Instructions:\n",
    "\n",
    "There are a total of 9,948 patients in the data. The training set comprises 6,600 patients. The file training_SyncPatient.csv has an indicator column to show who has a diagnosis of Type 2 diabetes mellitus (T2DM). \n",
    "Use training data to do exploratory data analysis (distribution for diabetes based on male/female, smoking/non-smoking, age, and other data).\n",
    "Build a predictive model to forecast diabetes given the details of a patient in the same format as training_SyncPatient.csv.\n",
    "You will test the efficacy of your predictive model using test_SyncPatient.csv and output a file test_SyncPatientForecast.csv with a new column DMIndicatorForecast probability for each row.\n",
    "The format of the input file test_SyncPatient.csv is:\n",
    "PatientGuid\n",
    "Gender\n",
    "YearOfBirth\n",
    "State\n",
    "PracticeGuid\n",
    "The format of the ouput file test_SyncPatientForecast.csv is:\n",
    "PatientGuid\n",
    "DMIndicatorForecast\n",
    "Your model performance is going to be evaluated using the Brier score (https://en.wikipedia.org/wiki/Brier_scoreLinks to an external site.) that compares your T2DM probability with T2DM actual.\n",
    "\n"
   ]
  },
  {
   "cell_type": "markdown",
   "metadata": {},
   "source": [
    "### Import packages"
   ]
  },
  {
   "cell_type": "code",
   "execution_count": 1,
   "metadata": {},
   "outputs": [],
   "source": [
    "import pandas as pd\n",
    "import numpy as np\n",
    "import seaborn as sns\n",
    "import matplotlib.pyplot as plt\n",
    "import os\n",
    "from sklearn import preprocessing\n",
    "from sklearn.preprocessing import StandardScaler\n",
    "from sklearn.model_selection import train_test_split\n",
    "from sklearn.linear_model import LogisticRegression\n",
    "from sklearn.tree import DecisionTreeClassifier\n",
    "from sklearn.ensemble import BaggingClassifier\n",
    "from sklearn.ensemble import RandomForestClassifier\n",
    "from sklearn.tree import DecisionTreeClassifier\n",
    "from sklearn.svm import SVC, LinearSVC\n",
    "from sklearn import metrics\n",
    "from sklearn.metrics import accuracy_score\n",
    "from sklearn.metrics import roc_curve\n",
    "from sklearn.metrics import roc_auc_score"
   ]
  },
  {
   "cell_type": "markdown",
   "metadata": {},
   "source": [
    "### Loading Data"
   ]
  },
  {
   "cell_type": "code",
   "execution_count": 2,
   "metadata": {},
   "outputs": [
    {
     "data": {
      "text/plain": [
       "'C:\\\\Users\\\\nazar\\\\Desktop\\\\MScA\\\\Health_Analytics\\\\Assignment\\\\Assignment1'"
      ]
     },
     "execution_count": 2,
     "metadata": {},
     "output_type": "execute_result"
    }
   ],
   "source": [
    "os.getcwd()"
   ]
  },
  {
   "cell_type": "code",
   "execution_count": 3,
   "metadata": {},
   "outputs": [],
   "source": [
    "SyncCondition = pd.read_csv(\"SyncCondition.csv\")\n",
    "SyncSmokingStatus = pd.read_csv(\"SyncSmokingStatus.csv\")\n",
    "test_SyncPatient = pd.read_csv(\"test_SyncPatient.csv\")\n",
    "training_SyncAllergy = pd.read_csv(\"training_SyncAllergy.csv\")\n",
    "training_SyncDiagnosis = pd.read_csv(\"training_SyncDiagnosis.csv\")\n",
    "training_SyncImmunization = pd.read_csv(\"training_SyncImmunization.csv\")\n",
    "training_SyncLabObservation = pd.read_csv(\"training_SyncLabObservation.csv\")\n",
    "training_SyncLabPanel = pd.read_csv(\"training_SyncLabPanel.csv\")\n",
    "training_SyncLabResult = pd.read_csv(\"training_SyncLabResult.csv\")\n",
    "training_SyncMedication = pd.read_csv(\"training_SyncMedication.csv\")\n",
    "training_SyncPatient = pd.read_csv(\"training_SyncPatient.csv\")\n",
    "training_SyncPatient_orig = pd.read_csv(\"training_SyncPatient_orig.csv\")\n",
    "training_SyncPatientCondition = pd.read_csv(\"training_SyncPatientCondition.csv\")\n",
    "training_SyncPatientSmokingStatus = pd.read_csv(\"training_SyncPatientSmokingStatus.csv\")\n",
    "training_SyncPrescription = pd.read_csv(\"training_SyncPrescription.csv\")\n",
    "training_SyncTranscript = pd.read_csv(\"training_SyncTranscript.csv\")\n",
    "training_SyncTranscriptAllergy = pd.read_csv(\"training_SyncTranscriptAllergy.csv\")\n",
    "training_SyncTranscriptDiagnosis = pd.read_csv(\"training_SyncTranscriptDiagnosis.csv\")\n",
    "training_SyncTranscriptMedication = pd.read_csv(\"training_SyncTranscriptMedication.csv\")"
   ]
  },
  {
   "cell_type": "markdown",
   "metadata": {},
   "source": [
    "# Exploratory Data Analysis (EDA)"
   ]
  },
  {
   "cell_type": "code",
   "execution_count": 4,
   "metadata": {},
   "outputs": [
    {
     "data": {
      "text/html": [
       "<div>\n",
       "<style scoped>\n",
       "    .dataframe tbody tr th:only-of-type {\n",
       "        vertical-align: middle;\n",
       "    }\n",
       "\n",
       "    .dataframe tbody tr th {\n",
       "        vertical-align: top;\n",
       "    }\n",
       "\n",
       "    .dataframe thead th {\n",
       "        text-align: right;\n",
       "    }\n",
       "</style>\n",
       "<table border=\"1\" class=\"dataframe\">\n",
       "  <thead>\n",
       "    <tr style=\"text-align: right;\">\n",
       "      <th>DMIndicator</th>\n",
       "      <th>0.0</th>\n",
       "      <th>1.0</th>\n",
       "    </tr>\n",
       "    <tr>\n",
       "      <th>Gender</th>\n",
       "      <th></th>\n",
       "      <th></th>\n",
       "    </tr>\n",
       "  </thead>\n",
       "  <tbody>\n",
       "    <tr>\n",
       "      <th>F</th>\n",
       "      <td>3119</td>\n",
       "      <td>618</td>\n",
       "    </tr>\n",
       "    <tr>\n",
       "      <th>M</th>\n",
       "      <td>2215</td>\n",
       "      <td>648</td>\n",
       "    </tr>\n",
       "  </tbody>\n",
       "</table>\n",
       "</div>"
      ],
      "text/plain": [
       "DMIndicator   0.0  1.0\n",
       "Gender                \n",
       "F            3119  618\n",
       "M            2215  648"
      ]
     },
     "execution_count": 4,
     "metadata": {},
     "output_type": "execute_result"
    }
   ],
   "source": [
    "table = pd.crosstab(training_SyncPatient['Gender'],training_SyncPatient['DMIndicator'])\n",
    "table"
   ]
  },
  {
   "cell_type": "code",
   "execution_count": 5,
   "metadata": {},
   "outputs": [
    {
     "data": {
      "text/plain": [
       "<matplotlib.axes._subplots.AxesSubplot at 0x19dc74524c8>"
      ]
     },
     "execution_count": 5,
     "metadata": {},
     "output_type": "execute_result"
    },
    {
     "data": {
      "image/png": "[encoded data removed]",
      "text/plain": [
       "<Figure size 432x288 with 1 Axes>"
      ]
     },
     "metadata": {
      "needs_background": "light"
     },
     "output_type": "display_data"
    }
   ],
   "source": [
    "table.plot(kind='bar')"
   ]
  },
  {
   "cell_type": "markdown",
   "metadata": {},
   "source": [
    "### Diabetes is higher among male than female"
   ]
  },
  {
   "cell_type": "code",
   "execution_count": 6,
   "metadata": {},
   "outputs": [],
   "source": [
    "import datetime as dt\n",
    "training_SyncPatient['This_Year'] = 2020\n",
    "training_SyncPatient['age'] = training_SyncPatient['This_Year'] - training_SyncPatient['YearOfBirth']"
   ]
  },
  {
   "cell_type": "code",
   "execution_count": 7,
   "metadata": {},
   "outputs": [],
   "source": [
    "bins = [0,30,35,39,45,49,55,59,65,69,75,79,85,89, np.inf]\n",
    "names = ['<30', '30-34','35-39','40-44','45-49','50-54','55-59','60-64','65-69','70-74','75-79','80-84','85-89','90+']\n",
    "training_SyncPatient['Age_Range'] = pd.cut(training_SyncPatient['age'], bins, labels=names)"
   ]
  },
  {
   "cell_type": "code",
   "execution_count": 8,
   "metadata": {},
   "outputs": [
    {
     "data": {
      "text/html": [
       "<div>\n",
       "<style scoped>\n",
       "    .dataframe tbody tr th:only-of-type {\n",
       "        vertical-align: middle;\n",
       "    }\n",
       "\n",
       "    .dataframe tbody tr th {\n",
       "        vertical-align: top;\n",
       "    }\n",
       "\n",
       "    .dataframe thead th {\n",
       "        text-align: right;\n",
       "    }\n",
       "</style>\n",
       "<table border=\"1\" class=\"dataframe\">\n",
       "  <thead>\n",
       "    <tr style=\"text-align: right;\">\n",
       "      <th>DMIndicator</th>\n",
       "      <th>0.0</th>\n",
       "      <th>1.0</th>\n",
       "    </tr>\n",
       "    <tr>\n",
       "      <th>Age_Range</th>\n",
       "      <th></th>\n",
       "      <th></th>\n",
       "    </tr>\n",
       "  </thead>\n",
       "  <tbody>\n",
       "    <tr>\n",
       "      <th>&lt;30</th>\n",
       "      <td>229</td>\n",
       "      <td>2</td>\n",
       "    </tr>\n",
       "    <tr>\n",
       "      <th>30-34</th>\n",
       "      <td>248</td>\n",
       "      <td>3</td>\n",
       "    </tr>\n",
       "    <tr>\n",
       "      <th>35-39</th>\n",
       "      <td>272</td>\n",
       "      <td>7</td>\n",
       "    </tr>\n",
       "    <tr>\n",
       "      <th>40-44</th>\n",
       "      <td>490</td>\n",
       "      <td>24</td>\n",
       "    </tr>\n",
       "    <tr>\n",
       "      <th>45-49</th>\n",
       "      <td>348</td>\n",
       "      <td>32</td>\n",
       "    </tr>\n",
       "    <tr>\n",
       "      <th>50-54</th>\n",
       "      <td>602</td>\n",
       "      <td>77</td>\n",
       "    </tr>\n",
       "    <tr>\n",
       "      <th>55-59</th>\n",
       "      <td>420</td>\n",
       "      <td>81</td>\n",
       "    </tr>\n",
       "    <tr>\n",
       "      <th>60-64</th>\n",
       "      <td>647</td>\n",
       "      <td>174</td>\n",
       "    </tr>\n",
       "    <tr>\n",
       "      <th>65-69</th>\n",
       "      <td>389</td>\n",
       "      <td>120</td>\n",
       "    </tr>\n",
       "    <tr>\n",
       "      <th>70-74</th>\n",
       "      <td>569</td>\n",
       "      <td>215</td>\n",
       "    </tr>\n",
       "    <tr>\n",
       "      <th>75-79</th>\n",
       "      <td>285</td>\n",
       "      <td>137</td>\n",
       "    </tr>\n",
       "    <tr>\n",
       "      <th>80-84</th>\n",
       "      <td>346</td>\n",
       "      <td>179</td>\n",
       "    </tr>\n",
       "    <tr>\n",
       "      <th>85-89</th>\n",
       "      <td>162</td>\n",
       "      <td>92</td>\n",
       "    </tr>\n",
       "    <tr>\n",
       "      <th>90+</th>\n",
       "      <td>327</td>\n",
       "      <td>123</td>\n",
       "    </tr>\n",
       "  </tbody>\n",
       "</table>\n",
       "</div>"
      ],
      "text/plain": [
       "DMIndicator  0.0  1.0\n",
       "Age_Range            \n",
       "<30          229    2\n",
       "30-34        248    3\n",
       "35-39        272    7\n",
       "40-44        490   24\n",
       "45-49        348   32\n",
       "50-54        602   77\n",
       "55-59        420   81\n",
       "60-64        647  174\n",
       "65-69        389  120\n",
       "70-74        569  215\n",
       "75-79        285  137\n",
       "80-84        346  179\n",
       "85-89        162   92\n",
       "90+          327  123"
      ]
     },
     "execution_count": 8,
     "metadata": {},
     "output_type": "execute_result"
    }
   ],
   "source": [
    "table = pd.crosstab(training_SyncPatient['Age_Range'],training_SyncPatient['DMIndicator'])\n",
    "table"
   ]
  },
  {
   "cell_type": "code",
   "execution_count": 9,
   "metadata": {},
   "outputs": [
    {
     "data": {
      "text/plain": [
       "<matplotlib.axes._subplots.AxesSubplot at 0x19dc615f648>"
      ]
     },
     "execution_count": 9,
     "metadata": {},
     "output_type": "execute_result"
    },
    {
     "data": {
      "image/png": "[encoded data removed]",
      "text/plain": [
       "<Figure size 432x288 with 1 Axes>"
      ]
     },
     "metadata": {
      "needs_background": "light"
     },
     "output_type": "display_data"
    }
   ],
   "source": [
    "table.plot(kind='bar')"
   ]
  },
  {
   "cell_type": "code",
   "execution_count": null,
   "metadata": {},
   "outputs": [],
   "source": []
  },
  {
   "cell_type": "code",
   "execution_count": 10,
   "metadata": {},
   "outputs": [
    {
     "data": {
      "text/html": [
       "<div>\n",
       "<style scoped>\n",
       "    .dataframe tbody tr th:only-of-type {\n",
       "        vertical-align: middle;\n",
       "    }\n",
       "\n",
       "    .dataframe tbody tr th {\n",
       "        vertical-align: top;\n",
       "    }\n",
       "\n",
       "    .dataframe thead th {\n",
       "        text-align: right;\n",
       "    }\n",
       "</style>\n",
       "<table border=\"1\" class=\"dataframe\">\n",
       "  <thead>\n",
       "    <tr style=\"text-align: right;\">\n",
       "      <th></th>\n",
       "      <th>DMIndicator</th>\n",
       "      <th>0.0</th>\n",
       "      <th>1.0</th>\n",
       "    </tr>\n",
       "    <tr>\n",
       "      <th>Gender</th>\n",
       "      <th>Age_Range</th>\n",
       "      <th></th>\n",
       "      <th></th>\n",
       "    </tr>\n",
       "  </thead>\n",
       "  <tbody>\n",
       "    <tr>\n",
       "      <th rowspan=\"14\" valign=\"top\">F</th>\n",
       "      <th>&lt;30</th>\n",
       "      <td>151</td>\n",
       "      <td>1</td>\n",
       "    </tr>\n",
       "    <tr>\n",
       "      <th>30-34</th>\n",
       "      <td>170</td>\n",
       "      <td>3</td>\n",
       "    </tr>\n",
       "    <tr>\n",
       "      <th>35-39</th>\n",
       "      <td>190</td>\n",
       "      <td>3</td>\n",
       "    </tr>\n",
       "    <tr>\n",
       "      <th>40-44</th>\n",
       "      <td>311</td>\n",
       "      <td>11</td>\n",
       "    </tr>\n",
       "    <tr>\n",
       "      <th>45-49</th>\n",
       "      <td>206</td>\n",
       "      <td>14</td>\n",
       "    </tr>\n",
       "    <tr>\n",
       "      <th>50-54</th>\n",
       "      <td>342</td>\n",
       "      <td>33</td>\n",
       "    </tr>\n",
       "    <tr>\n",
       "      <th>55-59</th>\n",
       "      <td>227</td>\n",
       "      <td>31</td>\n",
       "    </tr>\n",
       "    <tr>\n",
       "      <th>60-64</th>\n",
       "      <td>362</td>\n",
       "      <td>88</td>\n",
       "    </tr>\n",
       "    <tr>\n",
       "      <th>65-69</th>\n",
       "      <td>207</td>\n",
       "      <td>52</td>\n",
       "    </tr>\n",
       "    <tr>\n",
       "      <th>70-74</th>\n",
       "      <td>311</td>\n",
       "      <td>100</td>\n",
       "    </tr>\n",
       "    <tr>\n",
       "      <th>75-79</th>\n",
       "      <td>139</td>\n",
       "      <td>72</td>\n",
       "    </tr>\n",
       "    <tr>\n",
       "      <th>80-84</th>\n",
       "      <td>201</td>\n",
       "      <td>90</td>\n",
       "    </tr>\n",
       "    <tr>\n",
       "      <th>85-89</th>\n",
       "      <td>97</td>\n",
       "      <td>45</td>\n",
       "    </tr>\n",
       "    <tr>\n",
       "      <th>90+</th>\n",
       "      <td>205</td>\n",
       "      <td>75</td>\n",
       "    </tr>\n",
       "    <tr>\n",
       "      <th rowspan=\"14\" valign=\"top\">M</th>\n",
       "      <th>&lt;30</th>\n",
       "      <td>78</td>\n",
       "      <td>1</td>\n",
       "    </tr>\n",
       "    <tr>\n",
       "      <th>30-34</th>\n",
       "      <td>78</td>\n",
       "      <td>0</td>\n",
       "    </tr>\n",
       "    <tr>\n",
       "      <th>35-39</th>\n",
       "      <td>82</td>\n",
       "      <td>4</td>\n",
       "    </tr>\n",
       "    <tr>\n",
       "      <th>40-44</th>\n",
       "      <td>179</td>\n",
       "      <td>13</td>\n",
       "    </tr>\n",
       "    <tr>\n",
       "      <th>45-49</th>\n",
       "      <td>142</td>\n",
       "      <td>18</td>\n",
       "    </tr>\n",
       "    <tr>\n",
       "      <th>50-54</th>\n",
       "      <td>260</td>\n",
       "      <td>44</td>\n",
       "    </tr>\n",
       "    <tr>\n",
       "      <th>55-59</th>\n",
       "      <td>193</td>\n",
       "      <td>50</td>\n",
       "    </tr>\n",
       "    <tr>\n",
       "      <th>60-64</th>\n",
       "      <td>285</td>\n",
       "      <td>86</td>\n",
       "    </tr>\n",
       "    <tr>\n",
       "      <th>65-69</th>\n",
       "      <td>182</td>\n",
       "      <td>68</td>\n",
       "    </tr>\n",
       "    <tr>\n",
       "      <th>70-74</th>\n",
       "      <td>258</td>\n",
       "      <td>115</td>\n",
       "    </tr>\n",
       "    <tr>\n",
       "      <th>75-79</th>\n",
       "      <td>146</td>\n",
       "      <td>65</td>\n",
       "    </tr>\n",
       "    <tr>\n",
       "      <th>80-84</th>\n",
       "      <td>145</td>\n",
       "      <td>89</td>\n",
       "    </tr>\n",
       "    <tr>\n",
       "      <th>85-89</th>\n",
       "      <td>65</td>\n",
       "      <td>47</td>\n",
       "    </tr>\n",
       "    <tr>\n",
       "      <th>90+</th>\n",
       "      <td>122</td>\n",
       "      <td>48</td>\n",
       "    </tr>\n",
       "  </tbody>\n",
       "</table>\n",
       "</div>"
      ],
      "text/plain": [
       "DMIndicator       0.0  1.0\n",
       "Gender Age_Range          \n",
       "F      <30        151    1\n",
       "       30-34      170    3\n",
       "       35-39      190    3\n",
       "       40-44      311   11\n",
       "       45-49      206   14\n",
       "       50-54      342   33\n",
       "       55-59      227   31\n",
       "       60-64      362   88\n",
       "       65-69      207   52\n",
       "       70-74      311  100\n",
       "       75-79      139   72\n",
       "       80-84      201   90\n",
       "       85-89       97   45\n",
       "       90+        205   75\n",
       "M      <30         78    1\n",
       "       30-34       78    0\n",
       "       35-39       82    4\n",
       "       40-44      179   13\n",
       "       45-49      142   18\n",
       "       50-54      260   44\n",
       "       55-59      193   50\n",
       "       60-64      285   86\n",
       "       65-69      182   68\n",
       "       70-74      258  115\n",
       "       75-79      146   65\n",
       "       80-84      145   89\n",
       "       85-89       65   47\n",
       "       90+        122   48"
      ]
     },
     "execution_count": 10,
     "metadata": {},
     "output_type": "execute_result"
    }
   ],
   "source": [
    "table = pd.crosstab([training_SyncPatient.Gender, training_SyncPatient.Age_Range],training_SyncPatient['DMIndicator'])\n",
    "table"
   ]
  },
  {
   "cell_type": "code",
   "execution_count": 11,
   "metadata": {},
   "outputs": [
    {
     "data": {
      "text/plain": [
       "<matplotlib.axes._subplots.AxesSubplot at 0x19dd0b81dc8>"
      ]
     },
     "execution_count": 11,
     "metadata": {},
     "output_type": "execute_result"
    },
    {
     "data": {
      "image/png": "[encoded data removed]",
      "text/plain": [
       "<Figure size 432x288 with 1 Axes>"
      ]
     },
     "metadata": {
      "needs_background": "light"
     },
     "output_type": "display_data"
    }
   ],
   "source": [
    "table.plot(kind='bar')"
   ]
  },
  {
   "cell_type": "markdown",
   "metadata": {},
   "source": [
    "### Almost 50% of both male and female suffer diabetes after 70+ years."
   ]
  },
  {
   "cell_type": "code",
   "execution_count": 12,
   "metadata": {},
   "outputs": [],
   "source": [
    "training_SyncPatient = training_SyncPatient.dropna()"
   ]
  },
  {
   "cell_type": "code",
   "execution_count": null,
   "metadata": {},
   "outputs": [],
   "source": []
  },
  {
   "cell_type": "markdown",
   "metadata": {},
   "source": [
    "# Data Preparation"
   ]
  },
  {
   "cell_type": "markdown",
   "metadata": {},
   "source": [
    "## Smoking Status"
   ]
  },
  {
   "cell_type": "code",
   "execution_count": 13,
   "metadata": {},
   "outputs": [],
   "source": [
    "Smoking_Merged = training_SyncPatientSmokingStatus.merge(SyncSmokingStatus, how = 'left', on = 'SmokingStatusGuid')"
   ]
  },
  {
   "cell_type": "code",
   "execution_count": 14,
   "metadata": {},
   "outputs": [
    {
     "data": {
      "text/plain": [
       "(4940, 6)"
      ]
     },
     "execution_count": 14,
     "metadata": {},
     "output_type": "execute_result"
    }
   ],
   "source": [
    "Smoking_Merged.shape"
   ]
  },
  {
   "cell_type": "code",
   "execution_count": 15,
   "metadata": {},
   "outputs": [],
   "source": [
    "Smoking_Merged.drop_duplicates(subset = 'PatientGuid', keep = 'last', inplace = True)"
   ]
  },
  {
   "cell_type": "code",
   "execution_count": 16,
   "metadata": {},
   "outputs": [
    {
     "data": {
      "text/html": [
       "<div>\n",
       "<style scoped>\n",
       "    .dataframe tbody tr th:only-of-type {\n",
       "        vertical-align: middle;\n",
       "    }\n",
       "\n",
       "    .dataframe tbody tr th {\n",
       "        vertical-align: top;\n",
       "    }\n",
       "\n",
       "    .dataframe thead th {\n",
       "        text-align: right;\n",
       "    }\n",
       "</style>\n",
       "<table border=\"1\" class=\"dataframe\">\n",
       "  <thead>\n",
       "    <tr style=\"text-align: right;\">\n",
       "      <th></th>\n",
       "      <th>PatientSmokingStatusGuid</th>\n",
       "      <th>PatientGuid</th>\n",
       "      <th>SmokingStatusGuid</th>\n",
       "      <th>EffectiveYear</th>\n",
       "      <th>Description</th>\n",
       "      <th>NISTcode</th>\n",
       "    </tr>\n",
       "  </thead>\n",
       "  <tbody>\n",
       "    <tr>\n",
       "      <th>0</th>\n",
       "      <td>98D65810-96E1-4AF2-986E-001AB3FA8F07</td>\n",
       "      <td>418B3B82-D178-47D3-A6D4-B9F92A37D7DC</td>\n",
       "      <td>FCD437AA-0451-4D8A-9396-B6F19D8B25E8</td>\n",
       "      <td>2011</td>\n",
       "      <td>1-2 packs per day</td>\n",
       "      <td>1</td>\n",
       "    </tr>\n",
       "    <tr>\n",
       "      <th>1</th>\n",
       "      <td>AF76A721-2A12-4C30-A600-0020DC77DEE1</td>\n",
       "      <td>53183B47-C9F6-46D4-ACD1-D2B44B6263B0</td>\n",
       "      <td>DD01E545-D7AF-4F00-B248-9FD40010D81D</td>\n",
       "      <td>2011</td>\n",
       "      <td>Up to 1 pack per day</td>\n",
       "      <td>1</td>\n",
       "    </tr>\n",
       "    <tr>\n",
       "      <th>2</th>\n",
       "      <td>D2C7E57A-5CBC-4BB3-91BF-00249D55AFBA</td>\n",
       "      <td>4E01E2C2-387D-485E-8AFA-312AAB7B5026</td>\n",
       "      <td>1F3BFBBF-AB76-481B-B1E0-08A3689A54BC</td>\n",
       "      <td>2011</td>\n",
       "      <td>Not a current tobacco user</td>\n",
       "      <td>0</td>\n",
       "    </tr>\n",
       "    <tr>\n",
       "      <th>3</th>\n",
       "      <td>D230ED80-6318-4E48-A374-002928252CBA</td>\n",
       "      <td>B732CBF8-E855-4CA3-9548-7C0A1660CC52</td>\n",
       "      <td>5ABBAB35-836F-4F3E-8632-CE063828DA15</td>\n",
       "      <td>2012</td>\n",
       "      <td>0 cigarettes per day (non-smoker or less than ...</td>\n",
       "      <td>4</td>\n",
       "    </tr>\n",
       "    <tr>\n",
       "      <th>4</th>\n",
       "      <td>6ED5ABA8-7D47-49F8-8857-00321749C4D2</td>\n",
       "      <td>4AE52DF5-AB5B-4272-AF6C-789EFE0B58B3</td>\n",
       "      <td>5ABBAB35-836F-4F3E-8632-CE063828DA15</td>\n",
       "      <td>2011</td>\n",
       "      <td>0 cigarettes per day (non-smoker or less than ...</td>\n",
       "      <td>4</td>\n",
       "    </tr>\n",
       "  </tbody>\n",
       "</table>\n",
       "</div>"
      ],
      "text/plain": [
       "               PatientSmokingStatusGuid                           PatientGuid  \\\n",
       "0  98D65810-96E1-4AF2-986E-001AB3FA8F07  418B3B82-D178-47D3-A6D4-B9F92A37D7DC   \n",
       "1  AF76A721-2A12-4C30-A600-0020DC77DEE1  53183B47-C9F6-46D4-ACD1-D2B44B6263B0   \n",
       "2  D2C7E57A-5CBC-4BB3-91BF-00249D55AFBA  4E01E2C2-387D-485E-8AFA-312AAB7B5026   \n",
       "3  D230ED80-6318-4E48-A374-002928252CBA  B732CBF8-E855-4CA3-9548-7C0A1660CC52   \n",
       "4  6ED5ABA8-7D47-49F8-8857-00321749C4D2  4AE52DF5-AB5B-4272-AF6C-789EFE0B58B3   \n",
       "\n",
       "                      SmokingStatusGuid  EffectiveYear  \\\n",
       "0  FCD437AA-0451-4D8A-9396-B6F19D8B25E8           2011   \n",
       "1  DD01E545-D7AF-4F00-B248-9FD40010D81D           2011   \n",
       "2  1F3BFBBF-AB76-481B-B1E0-08A3689A54BC           2011   \n",
       "3  5ABBAB35-836F-4F3E-8632-CE063828DA15           2012   \n",
       "4  5ABBAB35-836F-4F3E-8632-CE063828DA15           2011   \n",
       "\n",
       "                                         Description  NISTcode  \n",
       "0                                  1-2 packs per day         1  \n",
       "1                               Up to 1 pack per day         1  \n",
       "2                         Not a current tobacco user         0  \n",
       "3  0 cigarettes per day (non-smoker or less than ...         4  \n",
       "4  0 cigarettes per day (non-smoker or less than ...         4  "
      ]
     },
     "execution_count": 16,
     "metadata": {},
     "output_type": "execute_result"
    }
   ],
   "source": [
    "Smoking_Merged.head()"
   ]
  },
  {
   "cell_type": "code",
   "execution_count": 17,
   "metadata": {},
   "outputs": [],
   "source": [
    "new_codes = [0]*Smoking_Merged.shape[0]\n",
    "for i in range(Smoking_Merged.shape[0]):\n",
    "    if Smoking_Merged['Description'].iloc[i] == '2 or more packs per day' or Smoking_Merged['Description'].iloc[i] == 'Up to 1 pack per day' or Smoking_Merged['Description'].iloc[i] == '1-2 packs per day':\n",
    "        new_codes[i] = 2\n",
    "    elif Smoking_Merged['Description'].iloc[i] == 'Current status unknown':\n",
    "        new_codes[i] = 5\n",
    "    elif Smoking_Merged['Description'].iloc[i] == 'Not a current tobacco user' or Smoking_Merged['Description'].iloc[i] == '0 cigarettes per day (previous smoker)':\n",
    "        new_codes[i] = 0\n",
    "    elif Smoking_Merged['Description'].iloc[i] == 'Few (1-3) cigarettes per day':\n",
    "        new_codes[i] = 1\n",
    "    elif Smoking_Merged['Description'].iloc[i] == '0 cigarettes per day (non-smoker or less than 100 in lifetime)':\n",
    "        new_codes[i] = 3\n",
    "    else:\n",
    "        new_codes[i] = 4\n",
    "Smoking_Merged['new_codes'] = new_codes"
   ]
  },
  {
   "cell_type": "code",
   "execution_count": 18,
   "metadata": {},
   "outputs": [],
   "source": [
    "Smoking_Merged.drop_duplicates(subset = 'PatientGuid', keep = 'last', inplace = True)"
   ]
  },
  {
   "cell_type": "code",
   "execution_count": 19,
   "metadata": {},
   "outputs": [
    {
     "data": {
      "text/html": [
       "<div>\n",
       "<style scoped>\n",
       "    .dataframe tbody tr th:only-of-type {\n",
       "        vertical-align: middle;\n",
       "    }\n",
       "\n",
       "    .dataframe tbody tr th {\n",
       "        vertical-align: top;\n",
       "    }\n",
       "\n",
       "    .dataframe thead th {\n",
       "        text-align: right;\n",
       "    }\n",
       "</style>\n",
       "<table border=\"1\" class=\"dataframe\">\n",
       "  <thead>\n",
       "    <tr style=\"text-align: right;\">\n",
       "      <th></th>\n",
       "      <th>PatientSmokingStatusGuid</th>\n",
       "      <th>PatientGuid</th>\n",
       "      <th>SmokingStatusGuid</th>\n",
       "      <th>EffectiveYear</th>\n",
       "      <th>Description</th>\n",
       "      <th>NISTcode</th>\n",
       "      <th>new_codes</th>\n",
       "    </tr>\n",
       "  </thead>\n",
       "  <tbody>\n",
       "    <tr>\n",
       "      <th>0</th>\n",
       "      <td>98D65810-96E1-4AF2-986E-001AB3FA8F07</td>\n",
       "      <td>418B3B82-D178-47D3-A6D4-B9F92A37D7DC</td>\n",
       "      <td>FCD437AA-0451-4D8A-9396-B6F19D8B25E8</td>\n",
       "      <td>2011</td>\n",
       "      <td>1-2 packs per day</td>\n",
       "      <td>1</td>\n",
       "      <td>2</td>\n",
       "    </tr>\n",
       "    <tr>\n",
       "      <th>1</th>\n",
       "      <td>AF76A721-2A12-4C30-A600-0020DC77DEE1</td>\n",
       "      <td>53183B47-C9F6-46D4-ACD1-D2B44B6263B0</td>\n",
       "      <td>DD01E545-D7AF-4F00-B248-9FD40010D81D</td>\n",
       "      <td>2011</td>\n",
       "      <td>Up to 1 pack per day</td>\n",
       "      <td>1</td>\n",
       "      <td>2</td>\n",
       "    </tr>\n",
       "    <tr>\n",
       "      <th>2</th>\n",
       "      <td>D2C7E57A-5CBC-4BB3-91BF-00249D55AFBA</td>\n",
       "      <td>4E01E2C2-387D-485E-8AFA-312AAB7B5026</td>\n",
       "      <td>1F3BFBBF-AB76-481B-B1E0-08A3689A54BC</td>\n",
       "      <td>2011</td>\n",
       "      <td>Not a current tobacco user</td>\n",
       "      <td>0</td>\n",
       "      <td>0</td>\n",
       "    </tr>\n",
       "    <tr>\n",
       "      <th>3</th>\n",
       "      <td>D230ED80-6318-4E48-A374-002928252CBA</td>\n",
       "      <td>B732CBF8-E855-4CA3-9548-7C0A1660CC52</td>\n",
       "      <td>5ABBAB35-836F-4F3E-8632-CE063828DA15</td>\n",
       "      <td>2012</td>\n",
       "      <td>0 cigarettes per day (non-smoker or less than ...</td>\n",
       "      <td>4</td>\n",
       "      <td>3</td>\n",
       "    </tr>\n",
       "    <tr>\n",
       "      <th>4</th>\n",
       "      <td>6ED5ABA8-7D47-49F8-8857-00321749C4D2</td>\n",
       "      <td>4AE52DF5-AB5B-4272-AF6C-789EFE0B58B3</td>\n",
       "      <td>5ABBAB35-836F-4F3E-8632-CE063828DA15</td>\n",
       "      <td>2011</td>\n",
       "      <td>0 cigarettes per day (non-smoker or less than ...</td>\n",
       "      <td>4</td>\n",
       "      <td>3</td>\n",
       "    </tr>\n",
       "  </tbody>\n",
       "</table>\n",
       "</div>"
      ],
      "text/plain": [
       "               PatientSmokingStatusGuid                           PatientGuid  \\\n",
       "0  98D65810-96E1-4AF2-986E-001AB3FA8F07  418B3B82-D178-47D3-A6D4-B9F92A37D7DC   \n",
       "1  AF76A721-2A12-4C30-A600-0020DC77DEE1  53183B47-C9F6-46D4-ACD1-D2B44B6263B0   \n",
       "2  D2C7E57A-5CBC-4BB3-91BF-00249D55AFBA  4E01E2C2-387D-485E-8AFA-312AAB7B5026   \n",
       "3  D230ED80-6318-4E48-A374-002928252CBA  B732CBF8-E855-4CA3-9548-7C0A1660CC52   \n",
       "4  6ED5ABA8-7D47-49F8-8857-00321749C4D2  4AE52DF5-AB5B-4272-AF6C-789EFE0B58B3   \n",
       "\n",
       "                      SmokingStatusGuid  EffectiveYear  \\\n",
       "0  FCD437AA-0451-4D8A-9396-B6F19D8B25E8           2011   \n",
       "1  DD01E545-D7AF-4F00-B248-9FD40010D81D           2011   \n",
       "2  1F3BFBBF-AB76-481B-B1E0-08A3689A54BC           2011   \n",
       "3  5ABBAB35-836F-4F3E-8632-CE063828DA15           2012   \n",
       "4  5ABBAB35-836F-4F3E-8632-CE063828DA15           2011   \n",
       "\n",
       "                                         Description  NISTcode  new_codes  \n",
       "0                                  1-2 packs per day         1          2  \n",
       "1                               Up to 1 pack per day         1          2  \n",
       "2                         Not a current tobacco user         0          0  \n",
       "3  0 cigarettes per day (non-smoker or less than ...         4          3  \n",
       "4  0 cigarettes per day (non-smoker or less than ...         4          3  "
      ]
     },
     "execution_count": 19,
     "metadata": {},
     "output_type": "execute_result"
    }
   ],
   "source": [
    "Smoking_Merged.head()"
   ]
  },
  {
   "cell_type": "code",
   "execution_count": null,
   "metadata": {},
   "outputs": [],
   "source": []
  },
  {
   "cell_type": "markdown",
   "metadata": {},
   "source": [
    "# Medication"
   ]
  },
  {
   "cell_type": "code",
   "execution_count": 20,
   "metadata": {},
   "outputs": [
    {
     "data": {
      "text/html": [
       "<div>\n",
       "<style scoped>\n",
       "    .dataframe tbody tr th:only-of-type {\n",
       "        vertical-align: middle;\n",
       "    }\n",
       "\n",
       "    .dataframe tbody tr th {\n",
       "        vertical-align: top;\n",
       "    }\n",
       "\n",
       "    .dataframe thead th {\n",
       "        text-align: right;\n",
       "    }\n",
       "</style>\n",
       "<table border=\"1\" class=\"dataframe\">\n",
       "  <thead>\n",
       "    <tr style=\"text-align: right;\">\n",
       "      <th></th>\n",
       "      <th>MedicationGuid</th>\n",
       "      <th>PatientGuid</th>\n",
       "      <th>NdcCode</th>\n",
       "      <th>MedicationName</th>\n",
       "      <th>MedicationStrength</th>\n",
       "      <th>Schedule</th>\n",
       "      <th>DiagnosisGuid</th>\n",
       "      <th>UserGuid</th>\n",
       "    </tr>\n",
       "  </thead>\n",
       "  <tbody>\n",
       "    <tr>\n",
       "      <th>0</th>\n",
       "      <td>0D6B339C-AB1F-4FF1-B231-000026C414C9</td>\n",
       "      <td>A7F1591C-9DB8-4F12-A0B8-15AC12C2B801</td>\n",
       "      <td>23490544301</td>\n",
       "      <td>Digoxin oral tablet</td>\n",
       "      <td>125 mcg (0.125 mg)</td>\n",
       "      <td>NaN</td>\n",
       "      <td>DA833B28-CE04-4547-A94F-8A4E6C187A3B</td>\n",
       "      <td>1247EA46-61C3-4E91-ACF1-9C54D920ED05</td>\n",
       "    </tr>\n",
       "    <tr>\n",
       "      <th>1</th>\n",
       "      <td>72ADD073-CDA0-4F85-B6CB-00008B645E90</td>\n",
       "      <td>7A88D55F-22A9-4126-861D-92F0DA2ED701</td>\n",
       "      <td>143126730</td>\n",
       "      <td>Lisinopril oral tablet</td>\n",
       "      <td>10 mg</td>\n",
       "      <td>NaN</td>\n",
       "      <td>3ED5B90C-22A1-46EE-9CF5-027E684627D8</td>\n",
       "      <td>89049E64-8E9C-4863-8CF2-B6874235FA14</td>\n",
       "    </tr>\n",
       "    <tr>\n",
       "      <th>2</th>\n",
       "      <td>D35E505A-02F8-4EFD-A460-00042F85EF3E</td>\n",
       "      <td>F0B80C93-D371-44BE-B464-530C97FE6C02</td>\n",
       "      <td>456069801</td>\n",
       "      <td>Tessalon (benzonatate) oral capsule</td>\n",
       "      <td>200 mg</td>\n",
       "      <td>NaN</td>\n",
       "      <td>0B6C3285-1D8C-4C0F-9928-95EC226CB2FE</td>\n",
       "      <td>7511BCEC-9E46-4808-99A7-5B30778B6E84</td>\n",
       "    </tr>\n",
       "    <tr>\n",
       "      <th>3</th>\n",
       "      <td>FFB036B9-A636-48F2-967C-0005F8D78574</td>\n",
       "      <td>FF32CBDA-DDB1-4730-81C5-ACB0F321C2C5</td>\n",
       "      <td>60432060504</td>\n",
       "      <td>Promethazine VC Plain (phenylephrine-promethaz...</td>\n",
       "      <td>5 mg-6.25 mg/5 mL</td>\n",
       "      <td>NaN</td>\n",
       "      <td>DE2E15A5-5080-4141-A061-C81EC739C0A4</td>\n",
       "      <td>7CA1DC13-E602-4296-805F-A64DC8950C5A</td>\n",
       "    </tr>\n",
       "    <tr>\n",
       "      <th>4</th>\n",
       "      <td>AB095685-A703-4D81-8678-0009396BF105</td>\n",
       "      <td>1ECD93C8-75BD-4D3C-8D15-E2A3D0373090</td>\n",
       "      <td>247211730</td>\n",
       "      <td>Lexapro (escitalopram) oral tablet</td>\n",
       "      <td>10 mg</td>\n",
       "      <td>NaN</td>\n",
       "      <td>16B189A4-359C-41E1-BAA3-3E081EA24C41</td>\n",
       "      <td>92EBF1FE-3BE4-4367-83DD-C34F58B0B6C6</td>\n",
       "    </tr>\n",
       "  </tbody>\n",
       "</table>\n",
       "</div>"
      ],
      "text/plain": [
       "                         MedicationGuid                           PatientGuid  \\\n",
       "0  0D6B339C-AB1F-4FF1-B231-000026C414C9  A7F1591C-9DB8-4F12-A0B8-15AC12C2B801   \n",
       "1  72ADD073-CDA0-4F85-B6CB-00008B645E90  7A88D55F-22A9-4126-861D-92F0DA2ED701   \n",
       "2  D35E505A-02F8-4EFD-A460-00042F85EF3E  F0B80C93-D371-44BE-B464-530C97FE6C02   \n",
       "3  FFB036B9-A636-48F2-967C-0005F8D78574  FF32CBDA-DDB1-4730-81C5-ACB0F321C2C5   \n",
       "4  AB095685-A703-4D81-8678-0009396BF105  1ECD93C8-75BD-4D3C-8D15-E2A3D0373090   \n",
       "\n",
       "       NdcCode                                     MedicationName  \\\n",
       "0  23490544301                                Digoxin oral tablet   \n",
       "1    143126730                             Lisinopril oral tablet   \n",
       "2    456069801                Tessalon (benzonatate) oral capsule   \n",
       "3  60432060504  Promethazine VC Plain (phenylephrine-promethaz...   \n",
       "4    247211730                 Lexapro (escitalopram) oral tablet   \n",
       "\n",
       "   MedicationStrength  Schedule                         DiagnosisGuid  \\\n",
       "0  125 mcg (0.125 mg)       NaN  DA833B28-CE04-4547-A94F-8A4E6C187A3B   \n",
       "1               10 mg       NaN  3ED5B90C-22A1-46EE-9CF5-027E684627D8   \n",
       "2              200 mg       NaN  0B6C3285-1D8C-4C0F-9928-95EC226CB2FE   \n",
       "3   5 mg-6.25 mg/5 mL       NaN  DE2E15A5-5080-4141-A061-C81EC739C0A4   \n",
       "4               10 mg       NaN  16B189A4-359C-41E1-BAA3-3E081EA24C41   \n",
       "\n",
       "                               UserGuid  \n",
       "0  1247EA46-61C3-4E91-ACF1-9C54D920ED05  \n",
       "1  89049E64-8E9C-4863-8CF2-B6874235FA14  \n",
       "2  7511BCEC-9E46-4808-99A7-5B30778B6E84  \n",
       "3  7CA1DC13-E602-4296-805F-A64DC8950C5A  \n",
       "4  92EBF1FE-3BE4-4367-83DD-C34F58B0B6C6  "
      ]
     },
     "execution_count": 20,
     "metadata": {},
     "output_type": "execute_result"
    }
   ],
   "source": [
    "training_SyncMedication = pd.read_csv(\"training_SyncMedication.csv\")\n",
    "training_SyncMedication.head()"
   ]
  },
  {
   "cell_type": "code",
   "execution_count": 21,
   "metadata": {},
   "outputs": [],
   "source": [
    "training_SyncMedication['Count'] = 1"
   ]
  },
  {
   "cell_type": "code",
   "execution_count": 22,
   "metadata": {},
   "outputs": [],
   "source": [
    "training_SyncMedication = pd.crosstab(training_SyncMedication['PatientGuid'], training_SyncMedication['Count'])"
   ]
  },
  {
   "cell_type": "code",
   "execution_count": 23,
   "metadata": {},
   "outputs": [],
   "source": [
    "training_SyncMedication.reset_index(level=0, inplace=True)"
   ]
  },
  {
   "cell_type": "code",
   "execution_count": 24,
   "metadata": {},
   "outputs": [],
   "source": [
    "training_SyncMedication.columns = ['PatientGuid', 'Count_of_Medications']"
   ]
  },
  {
   "cell_type": "code",
   "execution_count": 25,
   "metadata": {},
   "outputs": [
    {
     "data": {
      "text/html": [
       "<div>\n",
       "<style scoped>\n",
       "    .dataframe tbody tr th:only-of-type {\n",
       "        vertical-align: middle;\n",
       "    }\n",
       "\n",
       "    .dataframe tbody tr th {\n",
       "        vertical-align: top;\n",
       "    }\n",
       "\n",
       "    .dataframe thead th {\n",
       "        text-align: right;\n",
       "    }\n",
       "</style>\n",
       "<table border=\"1\" class=\"dataframe\">\n",
       "  <thead>\n",
       "    <tr style=\"text-align: right;\">\n",
       "      <th></th>\n",
       "      <th>PatientGuid</th>\n",
       "      <th>Count_of_Medications</th>\n",
       "    </tr>\n",
       "  </thead>\n",
       "  <tbody>\n",
       "    <tr>\n",
       "      <th>0</th>\n",
       "      <td>00023761-9D8D-445B-874C-2424CC7CF620</td>\n",
       "      <td>1</td>\n",
       "    </tr>\n",
       "    <tr>\n",
       "      <th>1</th>\n",
       "      <td>0005D9BD-0247-4F02-B7EE-7C1B44825FA1</td>\n",
       "      <td>1</td>\n",
       "    </tr>\n",
       "    <tr>\n",
       "      <th>2</th>\n",
       "      <td>000B4862-7CE7-4EC5-8043-A97FCD74BD78</td>\n",
       "      <td>2</td>\n",
       "    </tr>\n",
       "    <tr>\n",
       "      <th>3</th>\n",
       "      <td>00110ABC-DAB9-49E3-A1C8-88BBF8D58109</td>\n",
       "      <td>4</td>\n",
       "    </tr>\n",
       "    <tr>\n",
       "      <th>4</th>\n",
       "      <td>002667F4-B9A3-4DE2-875F-8034DD637865</td>\n",
       "      <td>1</td>\n",
       "    </tr>\n",
       "  </tbody>\n",
       "</table>\n",
       "</div>"
      ],
      "text/plain": [
       "                            PatientGuid  Count_of_Medications\n",
       "0  00023761-9D8D-445B-874C-2424CC7CF620                     1\n",
       "1  0005D9BD-0247-4F02-B7EE-7C1B44825FA1                     1\n",
       "2  000B4862-7CE7-4EC5-8043-A97FCD74BD78                     2\n",
       "3  00110ABC-DAB9-49E3-A1C8-88BBF8D58109                     4\n",
       "4  002667F4-B9A3-4DE2-875F-8034DD637865                     1"
      ]
     },
     "execution_count": 25,
     "metadata": {},
     "output_type": "execute_result"
    }
   ],
   "source": [
    "training_SyncMedication.head()"
   ]
  },
  {
   "cell_type": "code",
   "execution_count": 26,
   "metadata": {},
   "outputs": [
    {
     "data": {
      "text/plain": [
       "(9846, 2)"
      ]
     },
     "execution_count": 26,
     "metadata": {},
     "output_type": "execute_result"
    }
   ],
   "source": [
    "training_SyncMedication.shape"
   ]
  },
  {
   "cell_type": "markdown",
   "metadata": {},
   "source": [
    "# Transcript"
   ]
  },
  {
   "cell_type": "code",
   "execution_count": 27,
   "metadata": {},
   "outputs": [],
   "source": [
    "training_SyncTranscript = pd.read_csv(\"training_SyncTranscript.csv\")"
   ]
  },
  {
   "cell_type": "code",
   "execution_count": 28,
   "metadata": {},
   "outputs": [
    {
     "data": {
      "text/plain": [
       "TranscriptGuid        0.000000\n",
       "PatientGuid           0.000000\n",
       "VisitYear             0.000000\n",
       "Height                0.541727\n",
       "Weight                0.000000\n",
       "BMI                   0.000000\n",
       "SystolicBP            0.346872\n",
       "DiastolicBP           0.346872\n",
       "RespiratoryRate       0.609314\n",
       "HeartRate             1.000000\n",
       "Temperature           0.618151\n",
       "PhysicianSpecialty    0.001381\n",
       "UserGuid              0.000000\n",
       "dtype: float64"
      ]
     },
     "execution_count": 28,
     "metadata": {},
     "output_type": "execute_result"
    }
   ],
   "source": [
    "training_SyncTranscript.isnull().sum()/training_SyncTranscript.shape[0]"
   ]
  },
  {
   "cell_type": "code",
   "execution_count": 29,
   "metadata": {},
   "outputs": [],
   "source": [
    "training_SyncTranscript.drop_duplicates(subset = 'PatientGuid', keep = 'last', inplace = True)"
   ]
  },
  {
   "cell_type": "code",
   "execution_count": 30,
   "metadata": {
    "scrolled": true
   },
   "outputs": [
    {
     "data": {
      "text/plain": [
       "(9948, 13)"
      ]
     },
     "execution_count": 30,
     "metadata": {},
     "output_type": "execute_result"
    }
   ],
   "source": [
    "training_SyncTranscript.shape"
   ]
  },
  {
   "cell_type": "markdown",
   "metadata": {},
   "source": [
    "#### impute missing values"
   ]
  },
  {
   "cell_type": "code",
   "execution_count": 31,
   "metadata": {},
   "outputs": [],
   "source": [
    "Transcript = training_SyncTranscript.merge(test_SyncPatient[{'PatientGuid','Gender','YearOfBirth'}], how = 'left', on = 'PatientGuid')"
   ]
  },
  {
   "cell_type": "code",
   "execution_count": 32,
   "metadata": {},
   "outputs": [],
   "source": [
    "Transcript['Age'] = 2020 - Transcript['YearOfBirth']"
   ]
  },
  {
   "cell_type": "code",
   "execution_count": 33,
   "metadata": {},
   "outputs": [
    {
     "data": {
      "text/html": [
       "<div>\n",
       "<style scoped>\n",
       "    .dataframe tbody tr th:only-of-type {\n",
       "        vertical-align: middle;\n",
       "    }\n",
       "\n",
       "    .dataframe tbody tr th {\n",
       "        vertical-align: top;\n",
       "    }\n",
       "\n",
       "    .dataframe thead th {\n",
       "        text-align: right;\n",
       "    }\n",
       "</style>\n",
       "<table border=\"1\" class=\"dataframe\">\n",
       "  <thead>\n",
       "    <tr style=\"text-align: right;\">\n",
       "      <th></th>\n",
       "      <th>YearOfBirth</th>\n",
       "      <th>Age</th>\n",
       "    </tr>\n",
       "  </thead>\n",
       "  <tbody>\n",
       "    <tr>\n",
       "      <th>0</th>\n",
       "      <td>1972</td>\n",
       "      <td>48</td>\n",
       "    </tr>\n",
       "    <tr>\n",
       "      <th>1</th>\n",
       "      <td>1949</td>\n",
       "      <td>71</td>\n",
       "    </tr>\n",
       "    <tr>\n",
       "      <th>2</th>\n",
       "      <td>1945</td>\n",
       "      <td>75</td>\n",
       "    </tr>\n",
       "    <tr>\n",
       "      <th>3</th>\n",
       "      <td>1958</td>\n",
       "      <td>62</td>\n",
       "    </tr>\n",
       "    <tr>\n",
       "      <th>4</th>\n",
       "      <td>1968</td>\n",
       "      <td>52</td>\n",
       "    </tr>\n",
       "    <tr>\n",
       "      <th>5</th>\n",
       "      <td>1974</td>\n",
       "      <td>46</td>\n",
       "    </tr>\n",
       "    <tr>\n",
       "      <th>6</th>\n",
       "      <td>1980</td>\n",
       "      <td>40</td>\n",
       "    </tr>\n",
       "    <tr>\n",
       "      <th>7</th>\n",
       "      <td>1960</td>\n",
       "      <td>60</td>\n",
       "    </tr>\n",
       "    <tr>\n",
       "      <th>8</th>\n",
       "      <td>1954</td>\n",
       "      <td>66</td>\n",
       "    </tr>\n",
       "    <tr>\n",
       "      <th>9</th>\n",
       "      <td>1964</td>\n",
       "      <td>56</td>\n",
       "    </tr>\n",
       "  </tbody>\n",
       "</table>\n",
       "</div>"
      ],
      "text/plain": [
       "   YearOfBirth  Age\n",
       "0         1972   48\n",
       "1         1949   71\n",
       "2         1945   75\n",
       "3         1958   62\n",
       "4         1968   52\n",
       "5         1974   46\n",
       "6         1980   40\n",
       "7         1960   60\n",
       "8         1954   66\n",
       "9         1964   56"
      ]
     },
     "execution_count": 33,
     "metadata": {},
     "output_type": "execute_result"
    }
   ],
   "source": [
    "Transcript[{'Age','YearOfBirth'}].head(10)"
   ]
  },
  {
   "cell_type": "code",
   "execution_count": 34,
   "metadata": {},
   "outputs": [
    {
     "data": {
      "text/plain": [
       "26"
      ]
     },
     "execution_count": 34,
     "metadata": {},
     "output_type": "execute_result"
    }
   ],
   "source": [
    "Transcript['Age'].min()"
   ]
  },
  {
   "cell_type": "code",
   "execution_count": 35,
   "metadata": {},
   "outputs": [
    {
     "data": {
      "text/plain": [
       "98"
      ]
     },
     "execution_count": 35,
     "metadata": {},
     "output_type": "execute_result"
    }
   ],
   "source": [
    "Transcript['Age'].max()"
   ]
  },
  {
   "cell_type": "code",
   "execution_count": 36,
   "metadata": {},
   "outputs": [],
   "source": [
    "bins = [0,30,35,39,45,49,55,59,65,69,75,79,85,89, np.inf]\n",
    "names = ['<30', '30-34','35-39','40-44','45-49','50-54','55-59','60-64','65-69','70-74','75-79','80-84','85-89','90+']\n",
    "Transcript['Age_Range'] = pd.cut(Transcript['Age'], bins, labels=names)"
   ]
  },
  {
   "cell_type": "code",
   "execution_count": 37,
   "metadata": {},
   "outputs": [],
   "source": [
    "Transcript_Male = Transcript[Transcript['Gender']=='M']\n",
    "Transcript_Female = Transcript[Transcript['Gender']=='F']"
   ]
  },
  {
   "cell_type": "code",
   "execution_count": 38,
   "metadata": {},
   "outputs": [],
   "source": [
    "BMI_Male = Transcript_Male[Transcript_Male['BMI'].notnull()].pivot_table(['BMI'],index = ['Age_Range'], aggfunc='mean')\n",
    "BMI_Male_dict = BMI_Male.T.to_dict('records')\n",
    "\n",
    "BMI_Female = Transcript_Female[Transcript_Female['BMI'].notnull()].pivot_table(['BMI'],index = ['Age_Range'], aggfunc='mean')\n",
    "BMI_Female_dict = BMI_Male.T.to_dict('records')\n",
    "\n",
    "Weight_Male = Transcript_Male[Transcript_Male['Weight'].notnull()].pivot_table(['Weight'],index = ['Age_Range'], aggfunc='mean')\n",
    "Weight_Male_dict = BMI_Male.T.to_dict('records')\n",
    "\n",
    "Weight_Female = Transcript_Female[Transcript_Female['Weight'].notnull()].pivot_table(['Weight'],index = ['Age_Range'], aggfunc='mean')\n",
    "Weight_Female_dict = BMI_Male.T.to_dict('records')\n",
    "\n",
    "SystolicBP_Male = Transcript_Male[Transcript_Male['SystolicBP'].notnull()].pivot_table(['SystolicBP'],index = ['Age_Range'], aggfunc='mean')\n",
    "SystolicBP_Male_dict = BMI_Male.T.to_dict('records')\n",
    "\n",
    "DiastolicBP_Male = Transcript_Male[Transcript_Male['DiastolicBP'].notnull()].pivot_table(['DiastolicBP'],index = ['Age_Range'], aggfunc='mean')\n",
    "DiastolicBP_Male_dict = BMI_Male.T.to_dict('records')\n",
    "\n",
    "SystolicBP_Female = Transcript_Female[Transcript_Female['SystolicBP'].notnull()].pivot_table(['SystolicBP'],index = ['Age_Range'], aggfunc='mean')\n",
    "SystolicBP_Female_dict = BMI_Male.T.to_dict('records')\n",
    "\n",
    "DiastolicBP_Female = Transcript_Female[Transcript_Female['DiastolicBP'].notnull()].pivot_table(['DiastolicBP'],index = ['Age_Range'], aggfunc='mean')\n",
    "DiastolicBP_Female_dict = BMI_Male.T.to_dict('records')"
   ]
  },
  {
   "cell_type": "code",
   "execution_count": 39,
   "metadata": {},
   "outputs": [],
   "source": [
    "new_bmi = [0]*Transcript.shape[0]\n",
    "new_weight = [0]*Transcript.shape[0]\n",
    "new_Diastolic = [0]*Transcript.shape[0]\n",
    "new_Systolic = [0]*Transcript.shape[0]"
   ]
  },
  {
   "cell_type": "code",
   "execution_count": 40,
   "metadata": {},
   "outputs": [],
   "source": [
    "for i in range(Transcript.shape[0]):\n",
    "    if (pd.isnull(Transcript['Weight'].iloc[i])) or (Transcript['Weight'].iloc[i] == 0):\n",
    "        if Transcript['Gender'].iloc[i] == 'M':\n",
    "            new_weight[i] = Weight_Male_dict[0].get(Transcript['Age_Range'].iloc[i])\n",
    "        else:\n",
    "            new_weight[i] = Weight_Female_dict[0].get(Transcript['Age_Range'].iloc[i])\n",
    "    else:\n",
    "        new_weight[i] = Transcript['Weight'].iloc[i]"
   ]
  },
  {
   "cell_type": "code",
   "execution_count": 41,
   "metadata": {},
   "outputs": [],
   "source": [
    "for i in range(Transcript.shape[0]):\n",
    "    if pd.isnull(Transcript['BMI'].iloc[i]) or Transcript['BMI'].iloc[i] == 0:\n",
    "        if Transcript['Gender'].iloc[i] == 'M':\n",
    "            new_bmi[i] = BMI_Male_dict[0].get(Transcript['Age_Range'].iloc[i])\n",
    "        else:\n",
    "            new_bmi[i] = BMI_Female_dict[0].get(Transcript['Age_Range'].iloc[i])\n",
    "    else:\n",
    "        new_bmi[i] = Transcript['BMI'].iloc[i]"
   ]
  },
  {
   "cell_type": "code",
   "execution_count": 42,
   "metadata": {},
   "outputs": [],
   "source": [
    "for i in range(Transcript.shape[0]):\n",
    "    if pd.isnull(Transcript['DiastolicBP'].iloc[i]) or Transcript['DiastolicBP'].iloc[i] == 0:\n",
    "        if Transcript['Gender'].iloc[i] == 'M':\n",
    "            new_Diastolic[i] = DiastolicBP_Male_dict[0].get(Transcript['Age_Range'].iloc[i])\n",
    "        else:\n",
    "            new_Diastolic[i] = DiastolicBP_Female_dict[0].get(Transcript['Age_Range'].iloc[i])\n",
    "    else:\n",
    "        new_Diastolic[i] = Transcript['DiastolicBP'].iloc[i]"
   ]
  },
  {
   "cell_type": "code",
   "execution_count": 43,
   "metadata": {},
   "outputs": [],
   "source": [
    "for i in range(Transcript.shape[0]):\n",
    "    if pd.isnull(Transcript['SystolicBP'].iloc[i]) or Transcript['SystolicBP'].iloc[i] == 0:\n",
    "        if Transcript['Gender'].iloc[i] == 'M':\n",
    "            new_Systolic[i] = SystolicBP_Male_dict[0].get(Transcript['Age_Range'].iloc[i])\n",
    "        else:\n",
    "            new_Systolic[i] = SystolicBP_Female_dict[0].get(Transcript['Age_Range'].iloc[i])\n",
    "    else:\n",
    "        new_Systolic[i] = Transcript['SystolicBP'].iloc[i]"
   ]
  },
  {
   "cell_type": "code",
   "execution_count": 44,
   "metadata": {},
   "outputs": [],
   "source": [
    "Transcript['New_BMI'] = new_bmi\n",
    "Transcript['New_Weight'] = new_weight\n",
    "Transcript['New_DiastolicBP'] = new_Diastolic\n",
    "Transcript['New_SystolicBP'] = new_Systolic"
   ]
  },
  {
   "cell_type": "code",
   "execution_count": 45,
   "metadata": {},
   "outputs": [
    {
     "data": {
      "text/plain": [
       "Index(['TranscriptGuid', 'PatientGuid', 'VisitYear', 'Height', 'Weight', 'BMI',\n",
       "       'SystolicBP', 'DiastolicBP', 'RespiratoryRate', 'HeartRate',\n",
       "       'Temperature', 'PhysicianSpecialty', 'UserGuid', 'YearOfBirth',\n",
       "       'Gender', 'Age', 'Age_Range', 'New_BMI', 'New_Weight',\n",
       "       'New_DiastolicBP', 'New_SystolicBP'],\n",
       "      dtype='object')"
      ]
     },
     "execution_count": 45,
     "metadata": {},
     "output_type": "execute_result"
    }
   ],
   "source": [
    "Transcript.columns"
   ]
  },
  {
   "cell_type": "code",
   "execution_count": 46,
   "metadata": {},
   "outputs": [],
   "source": [
    "average_height_male = Transcript[(Transcript['Height'].notnull()) & (Transcript['Gender']=='M')]['Height'].mean()\n",
    "average_height_female = Transcript[(Transcript['Height'].notnull()) & (Transcript['Gender']=='F')]['Height'].mean()"
   ]
  },
  {
   "cell_type": "code",
   "execution_count": 47,
   "metadata": {},
   "outputs": [
    {
     "name": "stdout",
     "output_type": "stream",
     "text": [
      "average height of males is... 69.03608808933006\n",
      "average height of females is... 63.47138578512397\n"
     ]
    }
   ],
   "source": [
    "print(\"average height of males is...\",average_height_male)\n",
    "print(\"average height of females is...\",average_height_female)"
   ]
  },
  {
   "cell_type": "code",
   "execution_count": 48,
   "metadata": {},
   "outputs": [],
   "source": [
    "TM = Transcript[Transcript['Gender']=='M'].copy()\n",
    "TF = Transcript[Transcript['Gender']=='F'].copy()"
   ]
  },
  {
   "cell_type": "code",
   "execution_count": 49,
   "metadata": {},
   "outputs": [],
   "source": [
    "TM['Height'].fillna(value=average_height_male, inplace = True)\n",
    "TF['Height'].fillna(value=average_height_female, inplace = True)"
   ]
  },
  {
   "cell_type": "code",
   "execution_count": 50,
   "metadata": {},
   "outputs": [],
   "source": [
    "Transcript_Final = pd.concat([TM,TF])"
   ]
  },
  {
   "cell_type": "code",
   "execution_count": 51,
   "metadata": {},
   "outputs": [
    {
     "data": {
      "text/plain": [
       "TranscriptGuid           0\n",
       "PatientGuid              0\n",
       "VisitYear                0\n",
       "Height                   0\n",
       "Weight                   0\n",
       "BMI                      0\n",
       "SystolicBP            2646\n",
       "DiastolicBP           2646\n",
       "RespiratoryRate       5608\n",
       "HeartRate             9948\n",
       "Temperature           5437\n",
       "PhysicianSpecialty      10\n",
       "UserGuid                 0\n",
       "YearOfBirth              0\n",
       "Gender                   0\n",
       "Age                      0\n",
       "Age_Range                0\n",
       "New_BMI                  0\n",
       "New_Weight               0\n",
       "New_DiastolicBP          0\n",
       "New_SystolicBP           0\n",
       "dtype: int64"
      ]
     },
     "execution_count": 51,
     "metadata": {},
     "output_type": "execute_result"
    }
   ],
   "source": [
    "Transcript_Final.isnull().sum()"
   ]
  },
  {
   "cell_type": "code",
   "execution_count": 52,
   "metadata": {},
   "outputs": [],
   "source": [
    "Transcript_Final.drop(['BMI','Weight','DiastolicBP','SystolicBP','Age','Gender','YearOfBirth'], axis = 1, inplace = True)"
   ]
  },
  {
   "cell_type": "code",
   "execution_count": 53,
   "metadata": {},
   "outputs": [],
   "source": [
    "Transcript_Final.rename(columns = {'New_BMI':'BMI','New_Weight':'Weight','New_DiastolicBP':'DiastolicBP','New_SystolicBP':'SystolicBP'}, inplace = True)"
   ]
  },
  {
   "cell_type": "code",
   "execution_count": 54,
   "metadata": {},
   "outputs": [],
   "source": [
    "train_test_SyncPatient = test_SyncPatient.merge(training_SyncPatient[{'PatientGuid','DMIndicator'}], how = 'left', on = 'PatientGuid')"
   ]
  },
  {
   "cell_type": "code",
   "execution_count": 55,
   "metadata": {},
   "outputs": [],
   "source": [
    "Patient = train_test_SyncPatient"
   ]
  },
  {
   "cell_type": "code",
   "execution_count": 56,
   "metadata": {},
   "outputs": [
    {
     "data": {
      "text/plain": [
       "(9948, 6)"
      ]
     },
     "execution_count": 56,
     "metadata": {},
     "output_type": "execute_result"
    }
   ],
   "source": [
    "Patient.shape"
   ]
  },
  {
   "cell_type": "code",
   "execution_count": 57,
   "metadata": {},
   "outputs": [],
   "source": [
    "Patient_Medication = Patient.merge(training_SyncMedication, how = 'left', on  = 'PatientGuid')"
   ]
  },
  {
   "cell_type": "code",
   "execution_count": 58,
   "metadata": {},
   "outputs": [
    {
     "data": {
      "text/plain": [
       "(9948, 7)"
      ]
     },
     "execution_count": 58,
     "metadata": {},
     "output_type": "execute_result"
    }
   ],
   "source": [
    "Patient_Medication.shape"
   ]
  },
  {
   "cell_type": "code",
   "execution_count": 59,
   "metadata": {},
   "outputs": [
    {
     "data": {
      "text/html": [
       "<div>\n",
       "<style scoped>\n",
       "    .dataframe tbody tr th:only-of-type {\n",
       "        vertical-align: middle;\n",
       "    }\n",
       "\n",
       "    .dataframe tbody tr th {\n",
       "        vertical-align: top;\n",
       "    }\n",
       "\n",
       "    .dataframe thead th {\n",
       "        text-align: right;\n",
       "    }\n",
       "</style>\n",
       "<table border=\"1\" class=\"dataframe\">\n",
       "  <thead>\n",
       "    <tr style=\"text-align: right;\">\n",
       "      <th></th>\n",
       "      <th>PatientGuid</th>\n",
       "      <th>Gender</th>\n",
       "      <th>YearOfBirth</th>\n",
       "      <th>State</th>\n",
       "      <th>PracticeGuid</th>\n",
       "      <th>DMIndicator</th>\n",
       "      <th>Count_of_Medications</th>\n",
       "    </tr>\n",
       "  </thead>\n",
       "  <tbody>\n",
       "    <tr>\n",
       "      <th>0</th>\n",
       "      <td>FB6EFC3D-1A20-4497-9CBD-00027CC5D220</td>\n",
       "      <td>M</td>\n",
       "      <td>1929</td>\n",
       "      <td>SD</td>\n",
       "      <td>7BF4DAD8-5F67-4985-B911-20C9E89A3737</td>\n",
       "      <td>0.0</td>\n",
       "      <td>5.0</td>\n",
       "    </tr>\n",
       "    <tr>\n",
       "      <th>1</th>\n",
       "      <td>C6746626-6783-4650-A58F-00065649139A</td>\n",
       "      <td>F</td>\n",
       "      <td>1985</td>\n",
       "      <td>TX</td>\n",
       "      <td>E7101967-2FF1-4B0F-8129-B0B429D1D15C</td>\n",
       "      <td>0.0</td>\n",
       "      <td>2.0</td>\n",
       "    </tr>\n",
       "    <tr>\n",
       "      <th>2</th>\n",
       "      <td>E05C6E8F-779F-4594-A388-000C635AE4D3</td>\n",
       "      <td>F</td>\n",
       "      <td>1984</td>\n",
       "      <td>NJ</td>\n",
       "      <td>FC01A799-1CAF-464F-A86F-8A666AB86F32</td>\n",
       "      <td>0.0</td>\n",
       "      <td>4.0</td>\n",
       "    </tr>\n",
       "    <tr>\n",
       "      <th>3</th>\n",
       "      <td>EAEBD216-F847-4355-87B2-000D942E08F0</td>\n",
       "      <td>M</td>\n",
       "      <td>1959</td>\n",
       "      <td>OH</td>\n",
       "      <td>EEBC95EF-79BE-4542-892E-98D3166BAB20</td>\n",
       "      <td>0.0</td>\n",
       "      <td>15.0</td>\n",
       "    </tr>\n",
       "    <tr>\n",
       "      <th>4</th>\n",
       "      <td>C7F10A80-4934-42D2-8540-000FBEBA75C8</td>\n",
       "      <td>F</td>\n",
       "      <td>1990</td>\n",
       "      <td>FL</td>\n",
       "      <td>677BA32E-B4C4-48F2-86E4-08C42B135401</td>\n",
       "      <td>0.0</td>\n",
       "      <td>1.0</td>\n",
       "    </tr>\n",
       "  </tbody>\n",
       "</table>\n",
       "</div>"
      ],
      "text/plain": [
       "                            PatientGuid Gender  YearOfBirth State  \\\n",
       "0  FB6EFC3D-1A20-4497-9CBD-00027CC5D220      M         1929    SD   \n",
       "1  C6746626-6783-4650-A58F-00065649139A      F         1985    TX   \n",
       "2  E05C6E8F-779F-4594-A388-000C635AE4D3      F         1984    NJ   \n",
       "3  EAEBD216-F847-4355-87B2-000D942E08F0      M         1959    OH   \n",
       "4  C7F10A80-4934-42D2-8540-000FBEBA75C8      F         1990    FL   \n",
       "\n",
       "                           PracticeGuid  DMIndicator  Count_of_Medications  \n",
       "0  7BF4DAD8-5F67-4985-B911-20C9E89A3737          0.0                   5.0  \n",
       "1  E7101967-2FF1-4B0F-8129-B0B429D1D15C          0.0                   2.0  \n",
       "2  FC01A799-1CAF-464F-A86F-8A666AB86F32          0.0                   4.0  \n",
       "3  EEBC95EF-79BE-4542-892E-98D3166BAB20          0.0                  15.0  \n",
       "4  677BA32E-B4C4-48F2-86E4-08C42B135401          0.0                   1.0  "
      ]
     },
     "execution_count": 59,
     "metadata": {},
     "output_type": "execute_result"
    }
   ],
   "source": [
    "Patient_Medication.head()"
   ]
  },
  {
   "cell_type": "code",
   "execution_count": 60,
   "metadata": {},
   "outputs": [],
   "source": [
    "Patient_Medication_Smoking = Patient_Medication.merge(Smoking_Merged[{'PatientGuid', 'EffectiveYear','new_codes'}], how = 'left', on  = 'PatientGuid')"
   ]
  },
  {
   "cell_type": "code",
   "execution_count": 61,
   "metadata": {},
   "outputs": [
    {
     "data": {
      "text/plain": [
       "(9948, 9)"
      ]
     },
     "execution_count": 61,
     "metadata": {},
     "output_type": "execute_result"
    }
   ],
   "source": [
    "Patient_Medication_Smoking.shape"
   ]
  },
  {
   "cell_type": "code",
   "execution_count": 62,
   "metadata": {},
   "outputs": [
    {
     "data": {
      "text/html": [
       "<div>\n",
       "<style scoped>\n",
       "    .dataframe tbody tr th:only-of-type {\n",
       "        vertical-align: middle;\n",
       "    }\n",
       "\n",
       "    .dataframe tbody tr th {\n",
       "        vertical-align: top;\n",
       "    }\n",
       "\n",
       "    .dataframe thead th {\n",
       "        text-align: right;\n",
       "    }\n",
       "</style>\n",
       "<table border=\"1\" class=\"dataframe\">\n",
       "  <thead>\n",
       "    <tr style=\"text-align: right;\">\n",
       "      <th></th>\n",
       "      <th>PatientGuid</th>\n",
       "      <th>Gender</th>\n",
       "      <th>YearOfBirth</th>\n",
       "      <th>State</th>\n",
       "      <th>PracticeGuid</th>\n",
       "      <th>DMIndicator</th>\n",
       "      <th>Count_of_Medications</th>\n",
       "      <th>new_codes</th>\n",
       "      <th>EffectiveYear</th>\n",
       "    </tr>\n",
       "  </thead>\n",
       "  <tbody>\n",
       "    <tr>\n",
       "      <th>0</th>\n",
       "      <td>FB6EFC3D-1A20-4497-9CBD-00027CC5D220</td>\n",
       "      <td>M</td>\n",
       "      <td>1929</td>\n",
       "      <td>SD</td>\n",
       "      <td>7BF4DAD8-5F67-4985-B911-20C9E89A3737</td>\n",
       "      <td>0.0</td>\n",
       "      <td>5.0</td>\n",
       "      <td>NaN</td>\n",
       "      <td>NaN</td>\n",
       "    </tr>\n",
       "    <tr>\n",
       "      <th>1</th>\n",
       "      <td>C6746626-6783-4650-A58F-00065649139A</td>\n",
       "      <td>F</td>\n",
       "      <td>1985</td>\n",
       "      <td>TX</td>\n",
       "      <td>E7101967-2FF1-4B0F-8129-B0B429D1D15C</td>\n",
       "      <td>0.0</td>\n",
       "      <td>2.0</td>\n",
       "      <td>3.0</td>\n",
       "      <td>2012.0</td>\n",
       "    </tr>\n",
       "    <tr>\n",
       "      <th>2</th>\n",
       "      <td>E05C6E8F-779F-4594-A388-000C635AE4D3</td>\n",
       "      <td>F</td>\n",
       "      <td>1984</td>\n",
       "      <td>NJ</td>\n",
       "      <td>FC01A799-1CAF-464F-A86F-8A666AB86F32</td>\n",
       "      <td>0.0</td>\n",
       "      <td>4.0</td>\n",
       "      <td>NaN</td>\n",
       "      <td>NaN</td>\n",
       "    </tr>\n",
       "    <tr>\n",
       "      <th>3</th>\n",
       "      <td>EAEBD216-F847-4355-87B2-000D942E08F0</td>\n",
       "      <td>M</td>\n",
       "      <td>1959</td>\n",
       "      <td>OH</td>\n",
       "      <td>EEBC95EF-79BE-4542-892E-98D3166BAB20</td>\n",
       "      <td>0.0</td>\n",
       "      <td>15.0</td>\n",
       "      <td>2.0</td>\n",
       "      <td>2011.0</td>\n",
       "    </tr>\n",
       "    <tr>\n",
       "      <th>4</th>\n",
       "      <td>C7F10A80-4934-42D2-8540-000FBEBA75C8</td>\n",
       "      <td>F</td>\n",
       "      <td>1990</td>\n",
       "      <td>FL</td>\n",
       "      <td>677BA32E-B4C4-48F2-86E4-08C42B135401</td>\n",
       "      <td>0.0</td>\n",
       "      <td>1.0</td>\n",
       "      <td>NaN</td>\n",
       "      <td>NaN</td>\n",
       "    </tr>\n",
       "  </tbody>\n",
       "</table>\n",
       "</div>"
      ],
      "text/plain": [
       "                            PatientGuid Gender  YearOfBirth State  \\\n",
       "0  FB6EFC3D-1A20-4497-9CBD-00027CC5D220      M         1929    SD   \n",
       "1  C6746626-6783-4650-A58F-00065649139A      F         1985    TX   \n",
       "2  E05C6E8F-779F-4594-A388-000C635AE4D3      F         1984    NJ   \n",
       "3  EAEBD216-F847-4355-87B2-000D942E08F0      M         1959    OH   \n",
       "4  C7F10A80-4934-42D2-8540-000FBEBA75C8      F         1990    FL   \n",
       "\n",
       "                           PracticeGuid  DMIndicator  Count_of_Medications  \\\n",
       "0  7BF4DAD8-5F67-4985-B911-20C9E89A3737          0.0                   5.0   \n",
       "1  E7101967-2FF1-4B0F-8129-B0B429D1D15C          0.0                   2.0   \n",
       "2  FC01A799-1CAF-464F-A86F-8A666AB86F32          0.0                   4.0   \n",
       "3  EEBC95EF-79BE-4542-892E-98D3166BAB20          0.0                  15.0   \n",
       "4  677BA32E-B4C4-48F2-86E4-08C42B135401          0.0                   1.0   \n",
       "\n",
       "   new_codes  EffectiveYear  \n",
       "0        NaN            NaN  \n",
       "1        3.0         2012.0  \n",
       "2        NaN            NaN  \n",
       "3        2.0         2011.0  \n",
       "4        NaN            NaN  "
      ]
     },
     "execution_count": 62,
     "metadata": {},
     "output_type": "execute_result"
    }
   ],
   "source": [
    "Patient_Medication_Smoking.head()"
   ]
  },
  {
   "cell_type": "code",
   "execution_count": 63,
   "metadata": {},
   "outputs": [],
   "source": [
    "Patient_Medication_Smoking_Transcript = Patient_Medication_Smoking.merge(Transcript_Final[{'PatientGuid', 'Height','BMI','Weight', 'DiastolicBP','SystolicBP'}], how = 'left', on  = 'PatientGuid')"
   ]
  },
  {
   "cell_type": "code",
   "execution_count": 64,
   "metadata": {},
   "outputs": [
    {
     "data": {
      "text/plain": [
       "(9948, 14)"
      ]
     },
     "execution_count": 64,
     "metadata": {},
     "output_type": "execute_result"
    }
   ],
   "source": [
    "Patient_Medication_Smoking_Transcript.shape"
   ]
  },
  {
   "cell_type": "code",
   "execution_count": 65,
   "metadata": {},
   "outputs": [
    {
     "data": {
      "text/plain": [
       "PatientGuid                0\n",
       "Gender                     0\n",
       "YearOfBirth                0\n",
       "State                      0\n",
       "PracticeGuid               0\n",
       "DMIndicator             3348\n",
       "Count_of_Medications     102\n",
       "new_codes               5521\n",
       "EffectiveYear           5521\n",
       "BMI                        0\n",
       "DiastolicBP                0\n",
       "Height                     0\n",
       "Weight                     0\n",
       "SystolicBP                 0\n",
       "dtype: int64"
      ]
     },
     "execution_count": 65,
     "metadata": {},
     "output_type": "execute_result"
    }
   ],
   "source": [
    "Patient_Medication_Smoking_Transcript.isnull().sum()"
   ]
  },
  {
   "cell_type": "code",
   "execution_count": 66,
   "metadata": {},
   "outputs": [],
   "source": [
    "Patient_Medication_Smoking_Transcript['new_codes'].fillna(value=5, inplace = True)"
   ]
  },
  {
   "cell_type": "code",
   "execution_count": 67,
   "metadata": {},
   "outputs": [
    {
     "data": {
      "text/plain": [
       "3.0"
      ]
     },
     "execution_count": 67,
     "metadata": {},
     "output_type": "execute_result"
    }
   ],
   "source": [
    "Patient_Medication_Smoking_Transcript['Count_of_Medications'].median()"
   ]
  },
  {
   "cell_type": "code",
   "execution_count": 68,
   "metadata": {
    "scrolled": true
   },
   "outputs": [],
   "source": [
    "Patient_Medication_Smoking_Transcript['Count_of_Medications'].fillna(value = 3, inplace = True)"
   ]
  },
  {
   "cell_type": "code",
   "execution_count": 69,
   "metadata": {},
   "outputs": [],
   "source": [
    "def region(State):\n",
    "    if State == 'CT' or State == 'ME' or State == 'MA' or State == 'NH' or State == 'RI' or State == 'VT' or State == 'NJ' or State == 'NY' or State == 'PA':\n",
    "        return 0\n",
    "    elif State == 'IL' or State == 'IN' or State == 'MI' or State == 'OH' or State == 'WI' or State == 'IA' or State == 'KS' or State == 'MN' or State == 'MO' or State == 'NE' or State == 'ND' or State == 'SD':\n",
    "        return 1\n",
    "    elif State == 'AZ' or State == 'CO' or State == 'ID' or State == 'MT' or State == 'NV' or State == 'NM' or State == 'UT' or State == 'WY' or State == 'AK' or State == 'CA' or State == 'HI' or State == 'OR' or State == 'WA':\n",
    "        return 2\n",
    "    elif State == 'DE' or State == 'FL' or State == 'GA' or State == 'MD' or State == 'NC' or State == 'SC' or State == 'VA' or State == 'DC' or State == 'WV' or State == 'AL' or State == 'KY' or State == 'MS' or State == 'TN' or State == 'AR' or State == 'OK' or State == 'TX' or State == 'LA':\n",
    "        return 3\n",
    "    else:\n",
    "        return 4"
   ]
  },
  {
   "cell_type": "code",
   "execution_count": 70,
   "metadata": {},
   "outputs": [],
   "source": [
    "Region = [region(State) for State in Patient_Medication_Smoking_Transcript.State]"
   ]
  },
  {
   "cell_type": "code",
   "execution_count": 71,
   "metadata": {},
   "outputs": [],
   "source": [
    "Patient_Medication_Smoking_Transcript['Region'] = Region"
   ]
  },
  {
   "cell_type": "code",
   "execution_count": 72,
   "metadata": {
    "scrolled": true
   },
   "outputs": [
    {
     "data": {
      "text/html": [
       "<div>\n",
       "<style scoped>\n",
       "    .dataframe tbody tr th:only-of-type {\n",
       "        vertical-align: middle;\n",
       "    }\n",
       "\n",
       "    .dataframe tbody tr th {\n",
       "        vertical-align: top;\n",
       "    }\n",
       "\n",
       "    .dataframe thead th {\n",
       "        text-align: right;\n",
       "    }\n",
       "</style>\n",
       "<table border=\"1\" class=\"dataframe\">\n",
       "  <thead>\n",
       "    <tr style=\"text-align: right;\">\n",
       "      <th></th>\n",
       "      <th>State</th>\n",
       "      <th>Region</th>\n",
       "    </tr>\n",
       "  </thead>\n",
       "  <tbody>\n",
       "    <tr>\n",
       "      <th>0</th>\n",
       "      <td>SD</td>\n",
       "      <td>1</td>\n",
       "    </tr>\n",
       "    <tr>\n",
       "      <th>1</th>\n",
       "      <td>TX</td>\n",
       "      <td>3</td>\n",
       "    </tr>\n",
       "    <tr>\n",
       "      <th>2</th>\n",
       "      <td>NJ</td>\n",
       "      <td>0</td>\n",
       "    </tr>\n",
       "    <tr>\n",
       "      <th>3</th>\n",
       "      <td>OH</td>\n",
       "      <td>1</td>\n",
       "    </tr>\n",
       "    <tr>\n",
       "      <th>4</th>\n",
       "      <td>FL</td>\n",
       "      <td>3</td>\n",
       "    </tr>\n",
       "  </tbody>\n",
       "</table>\n",
       "</div>"
      ],
      "text/plain": [
       "  State  Region\n",
       "0    SD       1\n",
       "1    TX       3\n",
       "2    NJ       0\n",
       "3    OH       1\n",
       "4    FL       3"
      ]
     },
     "execution_count": 72,
     "metadata": {},
     "output_type": "execute_result"
    }
   ],
   "source": [
    "Patient_Medication_Smoking_Transcript[{'Region','State'}].head()"
   ]
  },
  {
   "cell_type": "code",
   "execution_count": 73,
   "metadata": {},
   "outputs": [
    {
     "data": {
      "text/plain": [
       "Index(['PatientGuid', 'Gender', 'YearOfBirth', 'State', 'PracticeGuid',\n",
       "       'DMIndicator', 'Count_of_Medications', 'new_codes', 'EffectiveYear',\n",
       "       'BMI', 'DiastolicBP', 'Height', 'Weight', 'SystolicBP', 'Region'],\n",
       "      dtype='object')"
      ]
     },
     "execution_count": 73,
     "metadata": {},
     "output_type": "execute_result"
    }
   ],
   "source": [
    "Patient_Medication_Smoking_Transcript.columns"
   ]
  },
  {
   "cell_type": "code",
   "execution_count": 74,
   "metadata": {},
   "outputs": [],
   "source": [
    "Patient_Medication_Smoking_Transcript['Age'] = 2020-Patient_Medication_Smoking_Transcript['YearOfBirth']"
   ]
  },
  {
   "cell_type": "code",
   "execution_count": 75,
   "metadata": {},
   "outputs": [],
   "source": [
    "bins = [0, 49, 57, np.inf]\n",
    "names = [0,1,2]\n",
    "Patient_Medication_Smoking_Transcript['AgeBucket'] = pd.cut(Patient_Medication_Smoking_Transcript['Age'], bins, labels=names)"
   ]
  },
  {
   "cell_type": "code",
   "execution_count": 76,
   "metadata": {},
   "outputs": [
    {
     "data": {
      "text/plain": [
       "Index(['PatientGuid', 'Gender', 'YearOfBirth', 'State', 'PracticeGuid',\n",
       "       'DMIndicator', 'Count_of_Medications', 'new_codes', 'EffectiveYear',\n",
       "       'BMI', 'DiastolicBP', 'Height', 'Weight', 'SystolicBP', 'Region', 'Age',\n",
       "       'AgeBucket'],\n",
       "      dtype='object')"
      ]
     },
     "execution_count": 76,
     "metadata": {},
     "output_type": "execute_result"
    }
   ],
   "source": [
    "Patient_Medication_Smoking_Transcript.columns"
   ]
  },
  {
   "cell_type": "code",
   "execution_count": 77,
   "metadata": {},
   "outputs": [],
   "source": [
    "from sklearn.preprocessing import LabelEncoder\n",
    "class_label = LabelEncoder()\n",
    "Patient_Medication_Smoking_Transcript['Gender_New'] = class_label.fit_transform(Patient_Medication_Smoking_Transcript['Gender'])"
   ]
  },
  {
   "cell_type": "code",
   "execution_count": 78,
   "metadata": {},
   "outputs": [],
   "source": [
    "def add_bmi_range(x): \n",
    "    bmi = x[0]\n",
    "    \n",
    "    if (bmi<18.5):\n",
    "        return 0\n",
    "    elif (18.5<=bmi<25):\n",
    "        return 1\n",
    "    elif (25<=bmi<30):\n",
    "        return 2\n",
    "    elif (30<=bmi):\n",
    "        return 3\n",
    "    else:\n",
    "        return 'Measurement Error'\n",
    "    \n",
    "\n",
    "Patient_Medication_Smoking_Transcript['BMI_Category'] = Patient_Medication_Smoking_Transcript[['BMI']].apply(add_bmi_range, axis=1)"
   ]
  },
  {
   "cell_type": "code",
   "execution_count": 79,
   "metadata": {},
   "outputs": [
    {
     "data": {
      "text/html": [
       "<div>\n",
       "<style scoped>\n",
       "    .dataframe tbody tr th:only-of-type {\n",
       "        vertical-align: middle;\n",
       "    }\n",
       "\n",
       "    .dataframe tbody tr th {\n",
       "        vertical-align: top;\n",
       "    }\n",
       "\n",
       "    .dataframe thead th {\n",
       "        text-align: right;\n",
       "    }\n",
       "</style>\n",
       "<table border=\"1\" class=\"dataframe\">\n",
       "  <thead>\n",
       "    <tr style=\"text-align: right;\">\n",
       "      <th></th>\n",
       "      <th>BMI_Category</th>\n",
       "    </tr>\n",
       "  </thead>\n",
       "  <tbody>\n",
       "    <tr>\n",
       "      <th>0</th>\n",
       "      <td>0</td>\n",
       "    </tr>\n",
       "    <tr>\n",
       "      <th>1</th>\n",
       "      <td>0</td>\n",
       "    </tr>\n",
       "    <tr>\n",
       "      <th>2</th>\n",
       "      <td>3</td>\n",
       "    </tr>\n",
       "    <tr>\n",
       "      <th>3</th>\n",
       "      <td>3</td>\n",
       "    </tr>\n",
       "    <tr>\n",
       "      <th>4</th>\n",
       "      <td>3</td>\n",
       "    </tr>\n",
       "    <tr>\n",
       "      <th>5</th>\n",
       "      <td>3</td>\n",
       "    </tr>\n",
       "    <tr>\n",
       "      <th>6</th>\n",
       "      <td>2</td>\n",
       "    </tr>\n",
       "    <tr>\n",
       "      <th>7</th>\n",
       "      <td>0</td>\n",
       "    </tr>\n",
       "    <tr>\n",
       "      <th>8</th>\n",
       "      <td>2</td>\n",
       "    </tr>\n",
       "    <tr>\n",
       "      <th>9</th>\n",
       "      <td>0</td>\n",
       "    </tr>\n",
       "    <tr>\n",
       "      <th>10</th>\n",
       "      <td>2</td>\n",
       "    </tr>\n",
       "    <tr>\n",
       "      <th>11</th>\n",
       "      <td>3</td>\n",
       "    </tr>\n",
       "    <tr>\n",
       "      <th>12</th>\n",
       "      <td>0</td>\n",
       "    </tr>\n",
       "    <tr>\n",
       "      <th>13</th>\n",
       "      <td>3</td>\n",
       "    </tr>\n",
       "    <tr>\n",
       "      <th>14</th>\n",
       "      <td>2</td>\n",
       "    </tr>\n",
       "    <tr>\n",
       "      <th>15</th>\n",
       "      <td>0</td>\n",
       "    </tr>\n",
       "    <tr>\n",
       "      <th>16</th>\n",
       "      <td>0</td>\n",
       "    </tr>\n",
       "    <tr>\n",
       "      <th>17</th>\n",
       "      <td>3</td>\n",
       "    </tr>\n",
       "    <tr>\n",
       "      <th>18</th>\n",
       "      <td>3</td>\n",
       "    </tr>\n",
       "    <tr>\n",
       "      <th>19</th>\n",
       "      <td>0</td>\n",
       "    </tr>\n",
       "  </tbody>\n",
       "</table>\n",
       "</div>"
      ],
      "text/plain": [
       "    BMI_Category\n",
       "0              0\n",
       "1              0\n",
       "2              3\n",
       "3              3\n",
       "4              3\n",
       "5              3\n",
       "6              2\n",
       "7              0\n",
       "8              2\n",
       "9              0\n",
       "10             2\n",
       "11             3\n",
       "12             0\n",
       "13             3\n",
       "14             2\n",
       "15             0\n",
       "16             0\n",
       "17             3\n",
       "18             3\n",
       "19             0"
      ]
     },
     "execution_count": 79,
     "metadata": {},
     "output_type": "execute_result"
    }
   ],
   "source": [
    "Patient_Medication_Smoking_Transcript[{'BMI_Category'}].head(20)"
   ]
  },
  {
   "cell_type": "code",
   "execution_count": null,
   "metadata": {},
   "outputs": [],
   "source": []
  },
  {
   "cell_type": "code",
   "execution_count": 80,
   "metadata": {
    "scrolled": true
   },
   "outputs": [],
   "source": [
    "Patient_Medication_Smoking_Transcript.drop(['EffectiveYear','State','Age','YearOfBirth','Gender', 'BMI', 'PracticeGuid' ], axis = 1, inplace = True)"
   ]
  },
  {
   "cell_type": "code",
   "execution_count": 81,
   "metadata": {},
   "outputs": [
    {
     "data": {
      "text/plain": [
       "(9948, 12)"
      ]
     },
     "execution_count": 81,
     "metadata": {},
     "output_type": "execute_result"
    }
   ],
   "source": [
    "Patient_Medication_Smoking_Transcript.shape"
   ]
  },
  {
   "cell_type": "code",
   "execution_count": 82,
   "metadata": {},
   "outputs": [
    {
     "data": {
      "text/plain": [
       "PatientGuid                0\n",
       "DMIndicator             3348\n",
       "Count_of_Medications       0\n",
       "new_codes                  0\n",
       "DiastolicBP                0\n",
       "Height                     0\n",
       "Weight                     0\n",
       "SystolicBP                 0\n",
       "Region                     0\n",
       "AgeBucket                  0\n",
       "Gender_New                 0\n",
       "BMI_Category               0\n",
       "dtype: int64"
      ]
     },
     "execution_count": 82,
     "metadata": {},
     "output_type": "execute_result"
    }
   ],
   "source": [
    "Patient_Medication_Smoking_Transcript.isnull().sum()"
   ]
  },
  {
   "cell_type": "markdown",
   "metadata": {},
   "source": [
    "# Models "
   ]
  },
  {
   "cell_type": "markdown",
   "metadata": {},
   "source": [
    "### Train Test Split"
   ]
  },
  {
   "cell_type": "code",
   "execution_count": 83,
   "metadata": {},
   "outputs": [
    {
     "data": {
      "text/plain": [
       "Index(['PatientGuid', 'DMIndicator', 'Count_of_Medications', 'new_codes',\n",
       "       'DiastolicBP', 'Height', 'Weight', 'SystolicBP', 'Region', 'AgeBucket',\n",
       "       'Gender_New', 'BMI_Category'],\n",
       "      dtype='object')"
      ]
     },
     "execution_count": 83,
     "metadata": {},
     "output_type": "execute_result"
    }
   ],
   "source": [
    "Patient_Medication_Smoking_Transcript.columns"
   ]
  },
  {
   "cell_type": "code",
   "execution_count": 84,
   "metadata": {},
   "outputs": [],
   "source": [
    "train = Patient_Medication_Smoking_Transcript[Patient_Medication_Smoking_Transcript['DMIndicator'].notnull()]\n",
    "test = Patient_Medication_Smoking_Transcript[Patient_Medication_Smoking_Transcript['DMIndicator'].isnull()]"
   ]
  },
  {
   "cell_type": "code",
   "execution_count": 85,
   "metadata": {},
   "outputs": [
    {
     "data": {
      "text/plain": [
       "(6600, 12)"
      ]
     },
     "execution_count": 85,
     "metadata": {},
     "output_type": "execute_result"
    }
   ],
   "source": [
    "train.shape"
   ]
  },
  {
   "cell_type": "code",
   "execution_count": 86,
   "metadata": {},
   "outputs": [
    {
     "data": {
      "text/plain": [
       "(3348, 12)"
      ]
     },
     "execution_count": 86,
     "metadata": {},
     "output_type": "execute_result"
    }
   ],
   "source": [
    "test.shape"
   ]
  },
  {
   "cell_type": "code",
   "execution_count": 87,
   "metadata": {
    "scrolled": true
   },
   "outputs": [],
   "source": [
    "# Separate input features (X) and target variable (y)\n",
    "\n",
    "x = train.drop(['DMIndicator', 'PatientGuid'], axis = 1)\n",
    "x_cols = x.columns\n",
    "y = train.DMIndicator"
   ]
  },
  {
   "cell_type": "code",
   "execution_count": 88,
   "metadata": {},
   "outputs": [],
   "source": [
    "scaler = StandardScaler()\n",
    "x = scaler.fit_transform(x)"
   ]
  },
  {
   "cell_type": "code",
   "execution_count": 89,
   "metadata": {},
   "outputs": [],
   "source": [
    "x_train, x_test, y_train, y_test = train_test_split(x, y, test_size=0.25, random_state = 1)"
   ]
  },
  {
   "cell_type": "code",
   "execution_count": 90,
   "metadata": {},
   "outputs": [
    {
     "data": {
      "text/plain": [
       "(1650,)"
      ]
     },
     "execution_count": 90,
     "metadata": {},
     "output_type": "execute_result"
    }
   ],
   "source": [
    "y_test.shape"
   ]
  },
  {
   "cell_type": "markdown",
   "metadata": {},
   "source": [
    "## Logistic Regression"
   ]
  },
  {
   "cell_type": "code",
   "execution_count": 91,
   "metadata": {},
   "outputs": [],
   "source": [
    "# Train model\n",
    "clf_logreg = LogisticRegression()"
   ]
  },
  {
   "cell_type": "code",
   "execution_count": 92,
   "metadata": {},
   "outputs": [
    {
     "data": {
      "text/plain": [
       "LogisticRegression(C=1.0, class_weight=None, dual=False, fit_intercept=True,\n",
       "                   intercept_scaling=1, l1_ratio=None, max_iter=100,\n",
       "                   multi_class='auto', n_jobs=None, penalty='l2',\n",
       "                   random_state=None, solver='lbfgs', tol=0.0001, verbose=0,\n",
       "                   warm_start=False)"
      ]
     },
     "execution_count": 92,
     "metadata": {},
     "output_type": "execute_result"
    }
   ],
   "source": [
    "#fit model\n",
    "clf_logreg.fit(x_train, y_train)"
   ]
  },
  {
   "cell_type": "code",
   "execution_count": 93,
   "metadata": {},
   "outputs": [],
   "source": [
    "#create predictions based on model\n",
    "y_pred = clf_logreg.predict(x_test)"
   ]
  },
  {
   "cell_type": "markdown",
   "metadata": {},
   "source": [
    "#### Classification Report"
   ]
  },
  {
   "cell_type": "code",
   "execution_count": 94,
   "metadata": {
    "scrolled": true
   },
   "outputs": [
    {
     "name": "stdout",
     "output_type": "stream",
     "text": [
      "              precision    recall  f1-score   support\n",
      "\n",
      "         0.0       0.81      1.00      0.90      1334\n",
      "         1.0       0.67      0.04      0.07       316\n",
      "\n",
      "    accuracy                           0.81      1650\n",
      "   macro avg       0.74      0.52      0.48      1650\n",
      "weighted avg       0.79      0.81      0.74      1650\n",
      "\n"
     ]
    }
   ],
   "source": [
    "print(metrics.classification_report(y_test, y_pred))"
   ]
  },
  {
   "cell_type": "markdown",
   "metadata": {},
   "source": [
    "#### Probablity"
   ]
  },
  {
   "cell_type": "code",
   "execution_count": 95,
   "metadata": {},
   "outputs": [],
   "source": [
    "#create predictions based on model\n",
    "y_pred = clf_logreg.predict_proba(x_test)"
   ]
  },
  {
   "cell_type": "markdown",
   "metadata": {},
   "source": [
    "#### Brier Score of Logistic Regression MOdel"
   ]
  },
  {
   "cell_type": "code",
   "execution_count": 96,
   "metadata": {},
   "outputs": [
    {
     "data": {
      "text/plain": [
       "0.1406284614828142"
      ]
     },
     "execution_count": 96,
     "metadata": {},
     "output_type": "execute_result"
    }
   ],
   "source": [
    "from sklearn.metrics import brier_score_loss\n",
    "\n",
    "y_pred = y_pred[:,1]\n",
    "\n",
    "brier_score_loss(y_test, y_pred)"
   ]
  },
  {
   "cell_type": "code",
   "execution_count": null,
   "metadata": {},
   "outputs": [],
   "source": []
  },
  {
   "cell_type": "markdown",
   "metadata": {},
   "source": [
    "## Random Forest"
   ]
  },
  {
   "cell_type": "code",
   "execution_count": 97,
   "metadata": {},
   "outputs": [],
   "source": [
    "# Train model\n",
    "clf_rf = RandomForestClassifier(n_estimators=100, random_state=1)"
   ]
  },
  {
   "cell_type": "code",
   "execution_count": 98,
   "metadata": {},
   "outputs": [
    {
     "data": {
      "text/plain": [
       "RandomForestClassifier(bootstrap=True, ccp_alpha=0.0, class_weight=None,\n",
       "                       criterion='gini', max_depth=None, max_features='auto',\n",
       "                       max_leaf_nodes=None, max_samples=None,\n",
       "                       min_impurity_decrease=0.0, min_impurity_split=None,\n",
       "                       min_samples_leaf=1, min_samples_split=2,\n",
       "                       min_weight_fraction_leaf=0.0, n_estimators=100,\n",
       "                       n_jobs=None, oob_score=False, random_state=1, verbose=0,\n",
       "                       warm_start=False)"
      ]
     },
     "execution_count": 98,
     "metadata": {},
     "output_type": "execute_result"
    }
   ],
   "source": [
    "#fit model\n",
    "clf_rf.fit(x_train, y_train)"
   ]
  },
  {
   "cell_type": "code",
   "execution_count": 99,
   "metadata": {},
   "outputs": [],
   "source": [
    "#create predictions based on model\n",
    "y_pred_clf_rf = clf_rf.predict(x_test)"
   ]
  },
  {
   "cell_type": "code",
   "execution_count": 100,
   "metadata": {},
   "outputs": [
    {
     "name": "stdout",
     "output_type": "stream",
     "text": [
      "              precision    recall  f1-score   support\n",
      "\n",
      "         0.0       0.82      0.95      0.88      1334\n",
      "         1.0       0.39      0.14      0.21       316\n",
      "\n",
      "    accuracy                           0.79      1650\n",
      "   macro avg       0.61      0.54      0.54      1650\n",
      "weighted avg       0.74      0.79      0.75      1650\n",
      "\n"
     ]
    }
   ],
   "source": [
    "print(metrics.classification_report(y_test, y_pred_clf_rf))"
   ]
  },
  {
   "cell_type": "code",
   "execution_count": 101,
   "metadata": {},
   "outputs": [
    {
     "data": {
      "text/plain": [
       "array([[1266,   68],\n",
       "       [ 272,   44]], dtype=int64)"
      ]
     },
     "execution_count": 101,
     "metadata": {},
     "output_type": "execute_result"
    }
   ],
   "source": [
    "#create the confusion matrices\n",
    "confusion_matrix_clf_rf = metrics.confusion_matrix(y_test, y_pred_clf_rf)\n",
    "confusion_matrix_clf_rf"
   ]
  },
  {
   "cell_type": "code",
   "execution_count": 102,
   "metadata": {},
   "outputs": [],
   "source": [
    "#create the probabilities\n",
    "clf_rf_probs = clf_rf.predict_proba(x_test)\n",
    "probs_clf_rf = clf_rf_probs[:, 1]"
   ]
  },
  {
   "cell_type": "markdown",
   "metadata": {},
   "source": [
    "### Brier Score of Random Forest"
   ]
  },
  {
   "cell_type": "code",
   "execution_count": 103,
   "metadata": {},
   "outputs": [
    {
     "data": {
      "text/plain": [
       "0.15165792437352113"
      ]
     },
     "execution_count": 103,
     "metadata": {},
     "output_type": "execute_result"
    }
   ],
   "source": [
    "brier_score_loss(y_test, probs_clf_rf)"
   ]
  },
  {
   "cell_type": "code",
   "execution_count": null,
   "metadata": {},
   "outputs": [],
   "source": []
  },
  {
   "cell_type": "markdown",
   "metadata": {},
   "source": [
    "# Support Vector Machine"
   ]
  },
  {
   "cell_type": "code",
   "execution_count": 104,
   "metadata": {},
   "outputs": [],
   "source": [
    "# Train model\n",
    "clf_svc = SVC(kernel='linear', probability=True, random_state=1)"
   ]
  },
  {
   "cell_type": "code",
   "execution_count": 105,
   "metadata": {},
   "outputs": [
    {
     "data": {
      "text/plain": [
       "SVC(C=1.0, break_ties=False, cache_size=200, class_weight=None, coef0=0.0,\n",
       "    decision_function_shape='ovr', degree=3, gamma='scale', kernel='linear',\n",
       "    max_iter=-1, probability=True, random_state=1, shrinking=True, tol=0.001,\n",
       "    verbose=False)"
      ]
     },
     "execution_count": 105,
     "metadata": {},
     "output_type": "execute_result"
    }
   ],
   "source": [
    "#fit model\n",
    "clf_svc.fit(x_train, y_train)"
   ]
  },
  {
   "cell_type": "code",
   "execution_count": 106,
   "metadata": {},
   "outputs": [],
   "source": [
    "#create predictions based on model\n",
    "y_pred_clf_svc = clf_rf.predict(x_test)"
   ]
  },
  {
   "cell_type": "code",
   "execution_count": 107,
   "metadata": {},
   "outputs": [
    {
     "name": "stdout",
     "output_type": "stream",
     "text": [
      "              precision    recall  f1-score   support\n",
      "\n",
      "         0.0       0.82      0.95      0.88      1334\n",
      "         1.0       0.39      0.14      0.21       316\n",
      "\n",
      "    accuracy                           0.79      1650\n",
      "   macro avg       0.61      0.54      0.54      1650\n",
      "weighted avg       0.74      0.79      0.75      1650\n",
      "\n"
     ]
    }
   ],
   "source": [
    "print(metrics.classification_report(y_test, y_pred_clf_svc))"
   ]
  },
  {
   "cell_type": "code",
   "execution_count": 108,
   "metadata": {},
   "outputs": [],
   "source": [
    "#create the probabilities\n",
    "clf_svc_probs = clf_svc.predict_proba(x_test)\n",
    "probs_clf_svc = clf_svc_probs[:, 1]"
   ]
  },
  {
   "cell_type": "markdown",
   "metadata": {},
   "source": [
    "#### Brier Score of Support Vector Machine"
   ]
  },
  {
   "cell_type": "code",
   "execution_count": 109,
   "metadata": {},
   "outputs": [
    {
     "data": {
      "text/plain": [
       "0.15443405797937143"
      ]
     },
     "execution_count": 109,
     "metadata": {},
     "output_type": "execute_result"
    }
   ],
   "source": [
    "brier_score_loss(y_test, probs_clf_svc)"
   ]
  },
  {
   "cell_type": "code",
   "execution_count": null,
   "metadata": {},
   "outputs": [],
   "source": []
  },
  {
   "cell_type": "markdown",
   "metadata": {},
   "source": [
    "# Neural Networks"
   ]
  },
  {
   "cell_type": "code",
   "execution_count": 150,
   "metadata": {},
   "outputs": [
    {
     "name": "stderr",
     "output_type": "stream",
     "text": [
      "C:\\Users\\nazar\\Anaconda3\\lib\\site-packages\\sklearn\\neural_network\\_multilayer_perceptron.py:571: ConvergenceWarning: Stochastic Optimizer: Maximum iterations (200) reached and the optimization hasn't converged yet.\n",
      "  % self.max_iter, ConvergenceWarning)\n"
     ]
    }
   ],
   "source": [
    "import sklearn as sk\n",
    "from sklearn.neural_network import MLPClassifier\n",
    "\n",
    "# Train model\n",
    "#clf_NN = MLPClassifier(solver='lbfgs', alpha=1e-5, hidden_layer_sizes=(5, 2), random_state=1)\n",
    "clf_NN = MLPClassifier()\n",
    "\n",
    "# Fir model\n",
    "clf_NN.fit(x_train, y_train)\n",
    "\n",
    "#create predictions based on model\n",
    "y_pred_clf_NN = clf_NN.predict(x_test)"
   ]
  },
  {
   "cell_type": "code",
   "execution_count": 151,
   "metadata": {},
   "outputs": [
    {
     "name": "stdout",
     "output_type": "stream",
     "text": [
      "              precision    recall  f1-score   support\n",
      "\n",
      "         0.0       0.82      0.97      0.89      1334\n",
      "         1.0       0.49      0.13      0.21       316\n",
      "\n",
      "    accuracy                           0.81      1650\n",
      "   macro avg       0.66      0.55      0.55      1650\n",
      "weighted avg       0.76      0.81      0.76      1650\n",
      "\n"
     ]
    }
   ],
   "source": [
    "print(metrics.classification_report(y_test, y_pred_clf_NN))"
   ]
  },
  {
   "cell_type": "code",
   "execution_count": 152,
   "metadata": {},
   "outputs": [],
   "source": [
    "#create the probabilities\n",
    "clf_NN_probs = clf_NN.predict_proba(x_test)\n",
    "probs_clf_NN = clf_NN_probs[:, 1]"
   ]
  },
  {
   "cell_type": "markdown",
   "metadata": {},
   "source": [
    "#### Brier Score of Neural Networks"
   ]
  },
  {
   "cell_type": "code",
   "execution_count": 153,
   "metadata": {},
   "outputs": [
    {
     "data": {
      "text/plain": [
       "0.13914560972093062"
      ]
     },
     "execution_count": 153,
     "metadata": {},
     "output_type": "execute_result"
    }
   ],
   "source": [
    "brier_score_loss(y_test, probs_clf_NN)"
   ]
  },
  {
   "cell_type": "code",
   "execution_count": 124,
   "metadata": {},
   "outputs": [
    {
     "data": {
      "text/plain": [
       "MLPClassifier(activation='relu', alpha=1e-05, batch_size='auto', beta_1=0.9,\n",
       "              beta_2=0.999, early_stopping=False, epsilon=1e-08,\n",
       "              hidden_layer_sizes=(5, 2), learning_rate='constant',\n",
       "              learning_rate_init=0.001, max_fun=15000, max_iter=200,\n",
       "              momentum=0.9, n_iter_no_change=10, nesterovs_momentum=True,\n",
       "              power_t=0.5, random_state=1, shuffle=True, solver='lbfgs',\n",
       "              tol=0.0001, validation_fraction=0.1, verbose=False,\n",
       "              warm_start=False)"
      ]
     },
     "execution_count": 124,
     "metadata": {},
     "output_type": "execute_result"
    }
   ],
   "source": [
    "# Train model\n",
    "MLPClassifier(solver='lbfgs', alpha=1e-5, hidden_layer_sizes=(5, 2), random_state=1)\n"
   ]
  },
  {
   "cell_type": "markdown",
   "metadata": {},
   "source": [
    "### Considering the Brier Score of four models: Logistic Regression 0.14, Radom Forest 0.15, Support Vector Machine 0.15, and Neural Networks 0.13),  Neural Networks perform the best as it has the lowest Brier Score. "
   ]
  },
  {
   "cell_type": "markdown",
   "metadata": {},
   "source": [
    "## Test Data Set "
   ]
  },
  {
   "cell_type": "code",
   "execution_count": 114,
   "metadata": {},
   "outputs": [],
   "source": [
    "PatientGuid = list(test.PatientGuid)"
   ]
  },
  {
   "cell_type": "code",
   "execution_count": 115,
   "metadata": {},
   "outputs": [],
   "source": [
    "# Separate input features (X) and target variable (y)\n",
    "x = test.drop(['DMIndicator', 'PatientGuid'], axis = 1)\n",
    "x_cols = x.columns\n",
    "y = test.DMIndicator\n",
    "# y"
   ]
  },
  {
   "cell_type": "markdown",
   "metadata": {},
   "source": [
    "### DMIndicator is not available for \"Test data\" set. So, only prediction probablity of diabetes is calculated."
   ]
  },
  {
   "cell_type": "code",
   "execution_count": 116,
   "metadata": {},
   "outputs": [],
   "source": [
    "scaler = StandardScaler()\n",
    "x = scaler.fit_transform(x)"
   ]
  },
  {
   "cell_type": "code",
   "execution_count": 117,
   "metadata": {},
   "outputs": [],
   "source": [
    "y_pred = clf_logreg.predict_proba(x)"
   ]
  },
  {
   "cell_type": "code",
   "execution_count": 118,
   "metadata": {},
   "outputs": [],
   "source": [
    "y_pred = y_pred[:,1]"
   ]
  },
  {
   "cell_type": "code",
   "execution_count": 119,
   "metadata": {},
   "outputs": [],
   "source": [
    "Final = pd.DataFrame(y_pred)\n",
    "Final.columns =['Probablity_diabetes'] "
   ]
  },
  {
   "cell_type": "code",
   "execution_count": 120,
   "metadata": {},
   "outputs": [],
   "source": [
    "Final['PatientGuid'] = PatientGuid"
   ]
  },
  {
   "cell_type": "code",
   "execution_count": 121,
   "metadata": {},
   "outputs": [
    {
     "data": {
      "text/html": [
       "<div>\n",
       "<style scoped>\n",
       "    .dataframe tbody tr th:only-of-type {\n",
       "        vertical-align: middle;\n",
       "    }\n",
       "\n",
       "    .dataframe tbody tr th {\n",
       "        vertical-align: top;\n",
       "    }\n",
       "\n",
       "    .dataframe thead th {\n",
       "        text-align: right;\n",
       "    }\n",
       "</style>\n",
       "<table border=\"1\" class=\"dataframe\">\n",
       "  <thead>\n",
       "    <tr style=\"text-align: right;\">\n",
       "      <th></th>\n",
       "      <th>Probablity_diabetes</th>\n",
       "      <th>PatientGuid</th>\n",
       "    </tr>\n",
       "  </thead>\n",
       "  <tbody>\n",
       "    <tr>\n",
       "      <th>0</th>\n",
       "      <td>0.036361</td>\n",
       "      <td>027AC271-0852-4DDD-99C2-A74FE50066E0</td>\n",
       "    </tr>\n",
       "    <tr>\n",
       "      <th>1</th>\n",
       "      <td>0.230718</td>\n",
       "      <td>C5D4C6FA-A2B3-4CCD-A8D5-A760127CE47D</td>\n",
       "    </tr>\n",
       "    <tr>\n",
       "      <th>2</th>\n",
       "      <td>0.363296</td>\n",
       "      <td>1F4D1486-7632-4576-AC92-A760680D1DC9</td>\n",
       "    </tr>\n",
       "    <tr>\n",
       "      <th>3</th>\n",
       "      <td>0.217090</td>\n",
       "      <td>0F6AD971-F133-4BD7-B508-A76788D9C46C</td>\n",
       "    </tr>\n",
       "    <tr>\n",
       "      <th>4</th>\n",
       "      <td>0.171866</td>\n",
       "      <td>1E23496C-7AAF-4A91-AAF4-A769BD439E67</td>\n",
       "    </tr>\n",
       "  </tbody>\n",
       "</table>\n",
       "</div>"
      ],
      "text/plain": [
       "   Probablity_diabetes                           PatientGuid\n",
       "0             0.036361  027AC271-0852-4DDD-99C2-A74FE50066E0\n",
       "1             0.230718  C5D4C6FA-A2B3-4CCD-A8D5-A760127CE47D\n",
       "2             0.363296  1F4D1486-7632-4576-AC92-A760680D1DC9\n",
       "3             0.217090  0F6AD971-F133-4BD7-B508-A76788D9C46C\n",
       "4             0.171866  1E23496C-7AAF-4A91-AAF4-A769BD439E67"
      ]
     },
     "execution_count": 121,
     "metadata": {},
     "output_type": "execute_result"
    }
   ],
   "source": [
    "Final.head()"
   ]
  },
  {
   "cell_type": "code",
   "execution_count": 122,
   "metadata": {},
   "outputs": [],
   "source": [
    "Final.to_csv(\"Project1_Nazarat.csv\", index = False)"
   ]
  },
  {
   "cell_type": "code",
   "execution_count": null,
   "metadata": {},
   "outputs": [],
   "source": []
  },
  {
   "cell_type": "code",
   "execution_count": null,
   "metadata": {},
   "outputs": [],
   "source": []
  }
 ],
 "metadata": {
  "kernelspec": {
   "display_name": "Python 3",
   "language": "python",
   "name": "python3"
  },
  "language_info": {
   "codemirror_mode": {
    "name": "ipython",
    "version": 3
   },
   "file_extension": ".py",
   "mimetype": "text/x-python",
   "name": "python",
   "nbconvert_exporter": "python",
   "pygments_lexer": "ipython3",
   "version": "3.7.7"
  }
 },
 "nbformat": 4,
 "nbformat_minor": 2
}
